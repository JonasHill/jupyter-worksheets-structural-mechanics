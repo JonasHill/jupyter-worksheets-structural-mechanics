{
 "cells": [
  {
   "attachments": {},
   "cell_type": "markdown",
   "metadata": {},
   "source": [
    "### **Continuum Mechanics - Worksheet 3**\n",
    "##### Winter Term 2022/2023"
   ]
  },
  {
   "attachments": {},
   "cell_type": "markdown",
   "metadata": {},
   "source": [
    "We are going to work with the Python libary `sympy` to do symbolic calculation."
   ]
  },
  {
   "cell_type": "code",
   "execution_count": null,
   "metadata": {},
   "outputs": [],
   "source": [
    "from sympy import *\n",
    "from IPython.display import display, Math"
   ]
  },
  {
   "attachments": {},
   "cell_type": "markdown",
   "metadata": {},
   "source": [
    "#### **1) Base vectors, Metric**"
   ]
  },
  {
   "attachments": {},
   "cell_type": "markdown",
   "metadata": {},
   "source": [
    "**a)** Compute the base vectors of a cylindrical coordinate system $\\boldsymbol{g}_j = (\\boldsymbol{g}_1 \\ \\boldsymbol{g}_2 \\ \\boldsymbol{g}_3)^\\top$ out of a given Cartesian coordinate system $\\boldsymbol{e}_i = (\\boldsymbol{e}_1 \\ \\boldsymbol{e}_2 \\ \\boldsymbol{e}_3)^\\top$."
   ]
  },
  {
   "attachments": {},
   "cell_type": "markdown",
   "metadata": {},
   "source": [
    "1. Define the orientation vector $\\boldsymbol{R}(\\theta^1, \\theta^2, \\theta^3)$ by its coordinates $x^i$ with respect to $\\theta^i$"
   ]
  },
  {
   "cell_type": "code",
   "execution_count": null,
   "metadata": {},
   "outputs": [],
   "source": [
    "th1, th2, th3 = symbols('theta^1 theta^2 theta^3')\n",
    "\n",
    "x1 = th1*cos(th2)\n",
    "x2 = th1*sin(th2)\n",
    "x3 = th3\n",
    "\n",
    "display(Math(r'x^1='+latex(x1)))\n",
    "display(Math(r'x^2='+latex(x2)))\n",
    "display(Math(r'x^3='+latex(x3)))"
   ]
  },
  {
   "attachments": {},
   "cell_type": "markdown",
   "metadata": {},
   "source": [
    "2. Compute the Jacobian $\\boldsymbol{J} = \\left[ \\beta_i^{\\ j°} \\right]$ and its inverse $\\boldsymbol{J}^{-1} = \\left[ \\beta_{j°}^{\\ \\ i} \\right]$"
   ]
  },
  {
   "cell_type": "code",
   "execution_count": null,
   "metadata": {},
   "outputs": [],
   "source": [
    "J = Matrix([[diff(x1, th1), diff(x2, th1), diff(x3, th1)], \n",
    "            [diff(x1, th2), diff(x2, th2), diff(x3, th2)], \n",
    "            [diff(x1, th3), diff(x2, th3), diff(x3, th3)]])\n",
    "Jinv = simplify(J**-1)\n",
    "\n",
    "display(Math(r'\\boldsymbol{J}='+latex(J)))\n",
    "display(Math(r'\\boldsymbol{J}^{-1}='+latex(Jinv)))"
   ]
  },
  {
   "attachments": {},
   "cell_type": "markdown",
   "metadata": {},
   "source": [
    "3. Extract the covariant base vectors $\\boldsymbol{g}_i$"
   ]
  },
  {
   "cell_type": "code",
   "execution_count": null,
   "metadata": {},
   "outputs": [],
   "source": [
    "g1_cov = (J.row(0)).T\n",
    "g2_cov = (J.row(1)).T\n",
    "g3_cov = (J.row(2)).T\n",
    "\n",
    "display(Math(r'\\boldsymbol{g}_1='+latex(g1_cov)))\n",
    "display(Math(r'\\boldsymbol{g}_2='+latex(g2_cov)))\n",
    "display(Math(r'\\boldsymbol{g}_3='+latex(g3_cov)))"
   ]
  },
  {
   "attachments": {},
   "cell_type": "markdown",
   "metadata": {},
   "source": [
    "**a)** ALTERNATIVE: \n",
    "1. Compute the base vectors directly using the orientation vector $\\boldsymbol{R}(\\theta^1, \\theta^2, \\theta^3)$."
   ]
  },
  {
   "cell_type": "code",
   "execution_count": null,
   "metadata": {},
   "outputs": [],
   "source": [
    "####################\n",
    "# insert your code #\n",
    "####################\n",
    "\n",
    "display(Math(r'\\boldsymbol{R} ='+latex(R)))"
   ]
  },
  {
   "attachments": {},
   "cell_type": "markdown",
   "metadata": {},
   "source": [
    "2. The base vectors can directly be computed as the partial derivatives of the orientation Vector $ \\boldsymbol{g}_i = \\frac{\\partial \\boldsymbol{R}}{\\partial \\theta^i} $."
   ]
  },
  {
   "cell_type": "code",
   "execution_count": null,
   "metadata": {
    "tags": []
   },
   "outputs": [],
   "source": [
    "####################\n",
    "# insert your code #\n",
    "####################\n",
    "\n",
    "display(Math(r'\\boldsymbol{g}_1='+latex(g1_cov_alternative)))\n",
    "display(Math(r'\\boldsymbol{g}_2='+latex(g2_cov_alternative)))\n",
    "display(Math(r'\\boldsymbol{g}_3='+latex(g3_cov_alternative)))"
   ]
  },
  {
   "attachments": {},
   "cell_type": "markdown",
   "metadata": {},
   "source": [
    "3. The Jacobian $\\boldsymbol{J}$ can than be assembled using the base vectors $J =\\left(\\begin{array}{cc} \\boldsymbol{g}_1^\\top \\\\ \\boldsymbol{g}_2^\\top \\\\ \\boldsymbol{g}_3^\\top \\end{array}\\right) $"
   ]
  },
  {
   "cell_type": "code",
   "execution_count": null,
   "metadata": {},
   "outputs": [],
   "source": [
    "####################\n",
    "# insert your code #\n",
    "####################\n",
    "\n",
    "display(Math(r'\\boldsymbol{J}='+latex(J)))"
   ]
  },
  {
   "attachments": {},
   "cell_type": "markdown",
   "metadata": {},
   "source": [
    "**b)** Compute the metric of the cylindrical coordinate system\n",
    "1. The covariant metric coefficients are defined as $g_{ij}= g_i \\ast g_j$. Since the basis vectors are contained in the Jacobian, an efficient way is to state $\\left[ g_{ij} \\right] =\\boldsymbol{J} \\boldsymbol{J}^\\top$. Please revisit the lecture notes or write down the statement decomposing the Jacobian into the basis vectors for a better understanding."
   ]
  },
  {
   "cell_type": "code",
   "execution_count": null,
   "metadata": {},
   "outputs": [],
   "source": [
    "gij_cov = simplify(J*J.T)\n",
    "\n",
    "display(Math(r'\\left[ g_{ij} \\right]='+latex(gij_cov)))"
   ]
  },
  {
   "attachments": {},
   "cell_type": "markdown",
   "metadata": {},
   "source": [
    "2. The contravariant metric can be found by inversion of the covariant metric $ \\left[g^{ij}\\right] = \\left[g_{ij}\\right]^{-1}$"
   ]
  },
  {
   "cell_type": "code",
   "execution_count": null,
   "metadata": {},
   "outputs": [],
   "source": [
    "gij_con = gij_cov**-1\n",
    "\n",
    "display(Math(r'\\left[g^{ij}\\right]='+latex(gij_con)))"
   ]
  },
  {
   "attachments": {},
   "cell_type": "markdown",
   "metadata": {},
   "source": [
    "**c)** EXTRA TASK: Compute the contravariant basis vectors $\\boldsymbol{g}^i$.\n",
    "\n",
    "1. Option A: Using the metric, $\\boldsymbol{g}^i=g^{ij}\\boldsymbol{g}_j$"
   ]
  },
  {
   "cell_type": "code",
   "execution_count": null,
   "metadata": {},
   "outputs": [],
   "source": [
    "g1_con = zeros(3,1)\n",
    "g2_con = zeros(3,1)\n",
    "g3_con = zeros(3,1)\n",
    "\n",
    "for j in [1, 2, 3]:\n",
    "    g1_con = g1_con + gij_con[1-1,j-1] * (J.row(j-1)).T\n",
    "\n",
    "for j in [1, 2, 3]:\n",
    "    g2_con = g2_con + gij_con[2-1,j-1] * (J.row(j-1)).T\n",
    "\n",
    "for j in [1, 2, 3]:\n",
    "    g3_con = g3_con + gij_con[3-1,j-1] * (J.row(j-1)).T\n",
    "\n",
    "\n",
    "display(Math(r'\\boldsymbol{g}^1='+latex(g1_con)))\n",
    "display(Math(r'\\boldsymbol{g}^2='+latex(g2_con)))\n",
    "display(Math(r'\\boldsymbol{g}^3='+latex(g3_con)))"
   ]
  },
  {
   "attachments": {},
   "cell_type": "markdown",
   "metadata": {},
   "source": [
    "2. Option B: Using the transformation $\\boldsymbol{g}^i = \\beta_{\\ \\ j°}^{i} \\boldsymbol{e}^{j°}$. The basis vectors thus correspond to the rows of the inverse transpose of the Jacobian $\\left[ \\beta_{\\ \\ j°}^{i} \\right] = \\boldsymbol{J}^{-\\top} $. In other words, they correspond to the colums of the inverse of the Jacobian."
   ]
  },
  {
   "cell_type": "code",
   "execution_count": null,
   "metadata": {},
   "outputs": [],
   "source": [
    "g1_con_alternative = Jinv.col(0)\n",
    "g2_con_alternative = Jinv.col(1)\n",
    "g3_con_alternative = Jinv.col(2)\n",
    "\n",
    "display(Math(r'\\boldsymbol{g}^1='+latex(g1_con_alternative)))\n",
    "display(Math(r'\\boldsymbol{g}^2='+latex(g2_con_alternative)))\n",
    "display(Math(r'\\boldsymbol{g}^3='+latex(g3_con_alternative)))"
   ]
  },
  {
   "attachments": {},
   "cell_type": "markdown",
   "metadata": {},
   "source": [
    "#### **2) Stress tensor, transformation, stress decomposition, principal stresses**"
   ]
  },
  {
   "attachments": {},
   "cell_type": "markdown",
   "metadata": {},
   "source": [
    "**a)** Transform the tree-dimensional stress tensor $\\sigma^{i° j°} \\mathbf{e}_{i°} \\otimes \\mathbf{e}_{j°}$ with the coefficient matrix\n",
    "$$\\left[ \\sigma^{i° j°} \\right] = \n",
    "\\left(\\begin{array}{cc}\n",
    "    -1.7538 & -2.3896 & -4.0515\\\\\n",
    "    -2.3896 & -3.1478 & -5.4021\\\\\n",
    "    -4.0515 & -5.4021 & -6.7526\n",
    "\\end{array}\\right) $$\n",
    "into the cylindrical coordinate system $\\boldsymbol{g}_j = (\\boldsymbol{g}_1 \\ \\boldsymbol{g}_2 \\ \\boldsymbol{g}_3)^\\top$."
   ]
  },
  {
   "attachments": {},
   "cell_type": "markdown",
   "metadata": {},
   "source": [
    "1. First we define the stress tensor coefficient matrix $\\left[ \\sigma^{i°j°} \\right]$."
   ]
  },
  {
   "cell_type": "code",
   "execution_count": null,
   "metadata": {},
   "outputs": [],
   "source": [
    "sigij_cart = Matrix([[-1.7538, -2.3896, -4.0515],\n",
    "                     [-2.3896, -3.1478, -5.4021], \n",
    "                     [-4.0515, -5.4021, -6.7526]])\n",
    "\n",
    "display(Math(r'[\\sigma^{i°j°}]='+latex(sigij_cart)))"
   ]
  },
  {
   "attachments": {},
   "cell_type": "markdown",
   "metadata": {},
   "source": [
    "2. Since the stress tensor is given at the point $\\boldsymbol{P} = \\left( 3, \\ 4, \\ 5 \\right)$, we need to evaluate the inverse Jacobian at that point. Therefore we need to find the inverse mapping $x \\to \\theta$ and substitute for $x$."
   ]
  },
  {
   "cell_type": "code",
   "execution_count": null,
   "metadata": {},
   "outputs": [],
   "source": [
    "x1_P, x2_P, x3_P = [3, 4, 5]\n",
    "\n",
    "th1_P = sqrt(x1_P**2 + x2_P**2)\n",
    "th2_P = atan(x2_P/x1_P)\n",
    "th3_P = x3_P\n",
    "\n",
    "Jinv_P = Jinv.subs([(th1, th1_P), (th2, th2_P), (th3, th3_P)])\n",
    "\n",
    "display(Math(r'\\left( \\theta^1, \\theta^2, \\theta^3 \\right)_P='+r'\\left('+ latex(th1_P) + ', \\ ' + latex(round(th2_P, 4))  +', \\ '+ latex(th3_P)  +r'\\right)'))\n",
    "display(Math(r'\\boldsymbol{J}^{-1}(\\boldsymbol{P})='+latex(Jinv_P)))"
   ]
  },
  {
   "attachments": {},
   "cell_type": "markdown",
   "metadata": {},
   "source": [
    "3. The contravariant stress tensor coefficient matrix $\\left[ \\sigma^{ij} \\right]$ w.r.t. the basis $\\mathbf{g}_{i} \\otimes \\mathbf{g}_{j}$ can be calculated by the following transformation:\n",
    "$$\n",
    "\\sigma^{ij}= \\beta_{i°}^{\\ \\ i} \\sigma^{i°j°} \\beta_{j°}^{\\ \\ j}  \\quad \\Leftrightarrow \\quad \\left[ \\sigma^{ij} \\right] = \\left[ \\beta_{j°}^{\\ \\ i} \\right]^{\\top} \\left[ \\sigma^{i°j°} \\right] \\left[ \\beta_{j°}^{\\ \\ i} \\right] = \\boldsymbol{J}^{-\\top} \\left[ \\sigma^{i°j°} \\right] \\boldsymbol{J}^{-1}\n",
    "$$"
   ]
  },
  {
   "cell_type": "code",
   "execution_count": null,
   "metadata": {},
   "outputs": [],
   "source": [
    "sigij_con = Jinv_P.T*sigij_cart*Jinv_P \n",
    "\n",
    "sigij_con_rounded = zeros(3,3)\n",
    "for i in range(3):\n",
    "    for j in range(3):\n",
    "        sigij_con_rounded[i,j] = round(sigij_con[i,j],4)\n",
    "\n",
    "display(Math(r'\\left[\\sigma^{ij}\\right]='+latex(sigij_con_rounded)))"
   ]
  },
  {
   "attachments": {},
   "cell_type": "markdown",
   "metadata": {},
   "source": [
    "4. Not part of the question, but good practice is to compute the covariant stress tensor coefficient matrix $\\left[ \\sigma_{ij} \\right]$ by the transformation:\n",
    "$$\n",
    "\\sigma_{ij}= g_{ik} \\ \\sigma^{kl} \\ g_{lj}  \\quad \\Leftrightarrow \\quad \\left[ \\sigma_{ij} \\right] = \\left[ g_{ij} \\right] \\left[ \\sigma^{ij} \\right] \\left[ g_{ij} \\right]\n",
    "$$\n",
    "$\\quad$ Note that we also need to evaluate the metric at the point $\\boldsymbol{P}$."
   ]
  },
  {
   "cell_type": "code",
   "execution_count": null,
   "metadata": {},
   "outputs": [],
   "source": [
    "gij_cov_P = gij_cov.subs([(th1, th1_P), (th2, th2_P), (th3, th3_P)])\n",
    "\n",
    "sigij_cov = gij_cov_P * sigij_con * gij_cov_P\n",
    "\n",
    "sigij_cov_rounded = zeros(3,3)\n",
    "for i in range(3):\n",
    "    for j in range(3):\n",
    "        sigij_cov_rounded[i,j] = round(sigij_cov[i,j],4)\n",
    "\n",
    "display(Math(r'\\left[\\sigma_{ij}\\right]='+latex(sigij_cov_rounded)))"
   ]
  },
  {
   "attachments": {},
   "cell_type": "markdown",
   "metadata": {},
   "source": [
    "**b)** Expand the code to compute the physical stress values in the new coordinate frame."
   ]
  },
  {
   "cell_type": "markdown",
   "metadata": {},
   "source": [
    "Since the basis vectors are orthogonal to each other but not normalized, the stress tensor components $\\sigma^{ij}$ do not correspond to the physical values. We compute the physical values by normalizing the basis vectors.\n",
    "$$ \\tilde{\\sigma}^{ij} = \\sigma^{ij} \\sqrt{g_{(ii)}} \\sqrt{g_{(jj)}} $$"
   ]
  },
  {
   "cell_type": "code",
   "execution_count": null,
   "metadata": {},
   "outputs": [],
   "source": [
    "sigij_cov_phy = zeros(3,3)\n",
    "\n",
    "gij_cov_P = gij_cov.subs([(th1, th1_P), (th2, th2_P), (th3, th3_P)])\n",
    "\n",
    "for i in range(3):\n",
    "    for j in range(i+1):\n",
    "        sigij_cov_phy[i, j] = sigij_con[i,j] * sqrt(gij_cov_P[j,j]) * sqrt(gij_cov_P[i,i]) \n",
    "        sigij_cov_phy[j, i] = sigij_cov_phy[i, j]\n",
    "\n",
    "sigij_cov_phy_rounded = zeros(3,3)\n",
    "for i in range(3):\n",
    "    for j in range(3):\n",
    "        sigij_cov_phy_rounded[i,j] = round(sigij_cov_phy[i,j],4)\n",
    "\n",
    "display(Math(r'\\left[\\tilde{\\sigma}^{ij}\\right]='+latex(sigij_cov_phy_rounded)))"
   ]
  },
  {
   "cell_type": "markdown",
   "metadata": {},
   "source": [
    "**c)** Compute the associated stress vector and decompose this vector into the normal and the tangential components $\\left(\\sigma, \\tau_{r\\varphi}\\right)$ in point $\\boldsymbol{P} = \\left( 3, \\ 4, \\ 5 \\right)$."
   ]
  },
  {
   "cell_type": "markdown",
   "metadata": {},
   "source": [
    "1. Define the normal and tangential vectors $\\boldsymbol{n}$ and $\\boldsymbol{p}_{r\\varphi}$ w.r.t. the *Cartesian* coordinate system."
   ]
  },
  {
   "cell_type": "code",
   "execution_count": null,
   "metadata": {},
   "outputs": [],
   "source": [
    "g1_cov_P = g1_cov.subs([(th1, th1_P), (th2, th2_P), (th3, th3_P)]) \n",
    "g2_cov_P = g2_cov.subs([(th1, th1_P), (th2, th2_P), (th3, th3_P)])\n",
    "\n",
    "n_cart = g1_cov_P.normalized()\n",
    "p_rphi_cart = g2_cov_P.normalized()\n",
    "\n",
    "display(Math(r'\\left[ n_{i°} \\right]='+latex(n_cart)))\n",
    "display(Math(r'\\left[ \\left( p_{r \\varphi} \\right)_{i°} \\right]='+latex(p_rphi_cart)))"
   ]
  },
  {
   "cell_type": "markdown",
   "metadata": {},
   "source": [
    "2. Calculate the normal stress $\\sigma$ and the shear stress $\\tau_{r \\varphi}$ using the stress tensor coefficient matrix w.r.t. the *Cartesian* coordinate system.\n",
    "\n",
    "$$ \\sigma = \\left[ n_{i°} \\right]^{\\top} \\left[ \\sigma^{i° j°} \\right] \\left[ n_{i°} \\right] $$\n",
    "$$ \\tau_{r \\varphi} = \\left[ \\left( p_{r \\varphi} \\right)_{i°} \\right]^{\\top} \\left[ \\sigma^{i° j°} \\right] \\left[ n_{i°} \\right] $$"
   ]
  },
  {
   "cell_type": "code",
   "execution_count": null,
   "metadata": {},
   "outputs": [],
   "source": [
    "sigma = n_cart.T * sigij_cart * n_cart\n",
    "tau_rphi = p_rphi_cart.T * sigij_cart * n_cart\n",
    "\n",
    "display(Math(r'\\sigma='+latex(round(sigma[0],4))))\n",
    "display(Math(r'\\tau_{r \\varphi}='+latex(round(tau_rphi[0],4))))"
   ]
  },
  {
   "cell_type": "markdown",
   "metadata": {},
   "source": [
    "**c)** ALTERNATIVE"
   ]
  },
  {
   "cell_type": "markdown",
   "metadata": {},
   "source": [
    "1. Define the normal and tangential vectors $\\boldsymbol{n}$ and $\\boldsymbol{p}_{r\\varphi}$ w.r.t. the cylindrical coordinate system."
   ]
  },
  {
   "cell_type": "code",
   "execution_count": null,
   "metadata": {},
   "outputs": [],
   "source": [
    "n_cyl = Matrix([1, 0, 0])\n",
    "p_rphi_cyl = 1/5 * Matrix([0, 1, 0])\n",
    "\n",
    "display(Math(r'\\left[ n_{i} \\right]='+latex(n_cyl)))\n",
    "display(Math(r'\\left[ \\left( p_{r \\varphi} \\right)_{i} \\right]='+latex(p_rphi_cyl)))"
   ]
  },
  {
   "cell_type": "markdown",
   "metadata": {},
   "source": [
    "2. Calculate the normal stress $\\sigma$ and the shear stress $\\tau_{r \\varphi}$ using the stress tensor coefficient matrix w.r.t. the cylindrical coordinate system.\n",
    "\n",
    "$$ \\sigma = \\left[ n_{i} \\right]^{\\top} \\left[ \\sigma^{ij} \\right] \\left[ n_{i} \\right] $$\n",
    "$$ \\tau_{r \\varphi} = \\left[ \\left( p_{r \\varphi} \\right)_{i} \\right]^{\\top} \\left[ \\sigma^{i j} \\right] \\left[ n_{i} \\right] $$"
   ]
  },
  {
   "cell_type": "code",
   "execution_count": null,
   "metadata": {},
   "outputs": [],
   "source": [
    "sigma = n_cyl.T * sigij_con * n_cyl\n",
    "tau_rphi = p_rphi_cyl.T * sigij_con * n_cyl\n",
    "\n",
    "display(Math(r'\\sigma='+latex(round(sigma[0],4))))\n",
    "display(Math(r'\\tau_{r \\varphi}='+latex(round(tau_rphi[0],4))))"
   ]
  },
  {
   "cell_type": "markdown",
   "metadata": {},
   "source": [
    "**c)** Expand your program to compute the principal stresses."
   ]
  },
  {
   "attachments": {},
   "cell_type": "markdown",
   "metadata": {},
   "source": [
    "1. Option A: Solving the eigenvalue problem which results out of a description of the stress tensor in *Cartesian* coordinates.\n",
    "   $$ \\left( \\left[ \\sigma^{i°j°} \\right] - \\sigma_0 \\left[ \\delta^{i°j°} \\right] \\right) \\left[ n_{i°} \\right] = \\left[ 0 \\right]  $$"
   ]
  },
  {
   "cell_type": "code",
   "execution_count": null,
   "metadata": {},
   "outputs": [],
   "source": [
    "####################\n",
    "# insert your code #\n",
    "####################\n",
    "\n",
    "display(Math(r'\\sigma_{0,I}='+latex(round(sig_0_I,4))))\n",
    "display(Math(r'\\sigma_{0,II}='+latex(round(sig_0_II,4))))\n",
    "display(Math(r'\\sigma_{0,III}='+latex(round(sig_0_III,4))))"
   ]
  },
  {
   "attachments": {},
   "cell_type": "markdown",
   "metadata": {},
   "source": [
    "2. Option B: Solving the generalized eigenvalue problem which results out of a contravariant description of the stress tensor in cylindrical coordinates.\n",
    "   $$ \\left( \\left[ \\sigma^{ij} \\right] - \\sigma_0 \\left[ g^{ij} \\right] \\right) \\left[ n_{i} \\right] = \\left[ 0 \\right]  $$"
   ]
  },
  {
   "cell_type": "code",
   "execution_count": null,
   "metadata": {},
   "outputs": [],
   "source": [
    "####################\n",
    "# insert your code #\n",
    "####################\n",
    "\n",
    "display(Math(r'\\sigma_{0,I}='+latex(round(sig_0_I_alternative,4))))\n",
    "display(Math(r'\\sigma_{0,II}='+latex(round(sig_0_II_alternative,4))))\n",
    "display(Math(r'\\sigma_{0,III}='+latex(round(sig_0_III_alternative,4))))"
   ]
  },
  {
   "attachments": {},
   "cell_type": "markdown",
   "metadata": {},
   "source": [
    "#### **3) *Christoffel* symbols**"
   ]
  },
  {
   "attachments": {},
   "cell_type": "markdown",
   "metadata": {},
   "source": [
    "**a)** Generate a new program to compute the *Christoffel* symbols **for a spherical coordinate system** in $\\R^3$. Use two different ways for the construction of the symbols."
   ]
  },
  {
   "attachments": {},
   "cell_type": "markdown",
   "metadata": {},
   "source": [
    "1. Define the orientation vector $\\boldsymbol{R}(\\theta^1, \\theta^2, \\theta^3)$ with respect to $\\theta^i$"
   ]
  },
  {
   "cell_type": "code",
   "execution_count": null,
   "metadata": {},
   "outputs": [],
   "source": [
    "####################\n",
    "# insert your code #\n",
    "####################\n",
    "\n",
    "display(Math(r'\\boldsymbol{R}(\\theta^1, \\theta^2, \\theta^3) ='+latex(R)))"
   ]
  },
  {
   "attachments": {},
   "cell_type": "markdown",
   "metadata": {},
   "source": [
    "2. The basis vectors can be computed as the partial derivatives of the orientation Vector $ \\boldsymbol{g}_i = \\frac{\\partial \\boldsymbol{R}}{\\partial \\theta^i} $."
   ]
  },
  {
   "cell_type": "code",
   "execution_count": null,
   "metadata": {},
   "outputs": [],
   "source": [
    "####################\n",
    "# insert your code #\n",
    "####################\n",
    "\n",
    "display(Math(r'\\boldsymbol{g}_1='+latex(g1_cov)))\n",
    "display(Math(r'\\boldsymbol{g}_2='+latex(g2_cov)))\n",
    "display(Math(r'\\boldsymbol{g}_3='+latex(g3_cov)))"
   ]
  },
  {
   "attachments": {},
   "cell_type": "markdown",
   "metadata": {},
   "source": [
    "3. The derivatives of the basis vectors are than given by $ \\boldsymbol{g}_{i,j} = \\frac{\\partial^2 \\boldsymbol{R}}{\\partial \\theta^i \\partial \\theta^j} $."
   ]
  },
  {
   "cell_type": "code",
   "execution_count": null,
   "metadata": {},
   "outputs": [],
   "source": [
    "gi_cov = [g1_cov, g2_cov, g3_cov] # 1D-array containing the basis vectors\n",
    "th = [th1, th2, th3] # 1D-array containing the coordinates \\theta^1 to \\theta^3\n",
    "gi_j = [ [0 for i in range(3)] for j in range(3)] # emty 2D-array\n",
    "\n",
    "####################\n",
    "# insert your code #\n",
    "####################\n",
    "\n",
    "display(Math(r'\\boldsymbol{g}_{1,1}='+latex(gi_j[0][0])+r', \\ \\boldsymbol{g}_{1,2}='+latex(gi_j[0][1])+r', \\ \\boldsymbol{g}_{1,3}='+latex(gi_j[0][2])))\n",
    "display(Math(r'\\boldsymbol{g}_{2,1}='+latex(gi_j[1][0])+r', \\ \\boldsymbol{g}_{2,2}='+latex(gi_j[1][1])+r', \\ \\boldsymbol{g}_{2,3}='+latex(gi_j[1][2])))\n",
    "display(Math(r'\\boldsymbol{g}_{3,1}='+latex(gi_j[2][0])+r', \\ \\boldsymbol{g}_{3,2}='+latex(gi_j[2][1])+r', \\ \\boldsymbol{g}_{3,3}='+latex(gi_j[2][2])))"
   ]
  },
  {
   "attachments": {},
   "cell_type": "markdown",
   "metadata": {},
   "source": [
    "4. Option A: Computing the *Christoffel* symbols of first kind using $\\Gamma_{ijk}=g_{i,j} \\ast g_k$."
   ]
  },
  {
   "cell_type": "code",
   "execution_count": null,
   "metadata": {},
   "outputs": [],
   "source": [
    "GammaFirst = [[ [0 for i in range(3)] for j in range(3)] for k in range(3)] # empty 3D-Array\n",
    "\n",
    "####################\n",
    "# insert your code #\n",
    "####################\n",
    "\n",
    "for i in range(3):\n",
    "    display(Math(r'\\Gamma_{ij'+f'{i+1}'+r'}='+latex(Array(GammaFirst)[:,:,i])))"
   ]
  },
  {
   "attachments": {},
   "cell_type": "markdown",
   "metadata": {},
   "source": [
    "5. Option B: Computing the *Christoffel* symbols of first kind using $\\Gamma_{ijk}=\\frac{1}{2} \\left( g_{jk,i} + g_{ki,j} - g_{ij,k} \\right)$."
   ]
  },
  {
   "attachments": {},
   "cell_type": "markdown",
   "metadata": {},
   "source": [
    "- First we calculate the covariant metric using the Jacobian via $\\left[ g_{ij} \\right] =\\boldsymbol{J} \\boldsymbol{J}^\\top$."
   ]
  },
  {
   "cell_type": "code",
   "execution_count": null,
   "metadata": {},
   "outputs": [],
   "source": [
    "####################\n",
    "# insert your code #\n",
    "####################\n",
    "\n",
    "display(Math(r'\\left[g_{ij}\\right]='+latex(gij_cov)))"
   ]
  },
  {
   "attachments": {},
   "cell_type": "markdown",
   "metadata": {},
   "source": [
    "- Than we can calculate the  *Christoffel* symbols of first kind"
   ]
  },
  {
   "cell_type": "code",
   "execution_count": null,
   "metadata": {},
   "outputs": [],
   "source": [
    "GammaFirst = [[ [0 for i in range(3)] for j in range(3)] for k in range(3)] # empty 3D-Array\n",
    "\n",
    "####################\n",
    "# insert your code #\n",
    "####################\n",
    "\n",
    "for i in range(3):\n",
    "    display(Math(r'\\Gamma_{ij'+f'{i+1}'+r'}='+latex(Array(GammaFirst)[:,:,i])))"
   ]
  },
  {
   "attachments": {},
   "cell_type": "markdown",
   "metadata": {},
   "source": [
    "6. Computing the *Christoffel* symbols of second kind using $\\Gamma_{ij}^{\\ \\ \\ \\ k} = \\Gamma_{ijs} g^{sk}$"
   ]
  },
  {
   "attachments": {},
   "cell_type": "markdown",
   "metadata": {},
   "source": [
    "- First we calculate the contravariant metric via $\\left[ g^{ij} \\right] = \\left[ g_{ij} \\right]^{-1}$."
   ]
  },
  {
   "cell_type": "code",
   "execution_count": null,
   "metadata": {},
   "outputs": [],
   "source": [
    "####################\n",
    "# insert your code #\n",
    "####################\n",
    "\n",
    "display(Math(r'\\left[g^{ij}\\right]='+latex(gij_con)))"
   ]
  },
  {
   "attachments": {},
   "cell_type": "markdown",
   "metadata": {},
   "source": [
    "- Than we can calculate the  *Christoffel* symbols of second kind."
   ]
  },
  {
   "cell_type": "code",
   "execution_count": null,
   "metadata": {},
   "outputs": [],
   "source": [
    "GammaSecond = [[ [0 for i in range(3)] for j in range(3)] for k in range(3)] # 3D-list with zeros\n",
    "\n",
    "####################\n",
    "# insert your code #\n",
    "####################\n",
    "\n",
    "\n",
    "for i in range(3):\n",
    "    display(Math(r'\\Gamma_{ij}^{\\ \\ \\ \\ '+f'{i+1}'+r'}='+latex(Array(GammaSecond)[:,:,i])))"
   ]
  }
 ],
 "metadata": {
  "kernelspec": {
   "display_name": "Python 3",
   "language": "python",
   "name": "python3"
  },
  "language_info": {
   "codemirror_mode": {
    "name": "ipython",
    "version": 3
   },
   "file_extension": ".py",
   "mimetype": "text/x-python",
   "name": "python",
   "nbconvert_exporter": "python",
   "pygments_lexer": "ipython3",
   "version": "3.10.5 (tags/v3.10.5:f377153, Jun  6 2022, 16:14:13) [MSC v.1929 64 bit (AMD64)]"
  },
  "orig_nbformat": 4,
  "vscode": {
   "interpreter": {
    "hash": "667329515d28a1283479cc8321488dc91e2c936d9f3a620a0ddf65f1601a839c"
   }
  }
 },
 "nbformat": 4,
 "nbformat_minor": 2
}
