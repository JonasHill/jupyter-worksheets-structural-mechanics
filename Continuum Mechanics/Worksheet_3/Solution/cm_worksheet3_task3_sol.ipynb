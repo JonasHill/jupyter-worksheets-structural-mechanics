{
 "cells": [
  {
   "attachments": {},
   "cell_type": "markdown",
   "metadata": {},
   "source": [
    "### **Continuum Mechanics - Worksheet 3**\n",
    "##### Winter Term 2022/2023"
   ]
  },
  {
   "attachments": {},
   "cell_type": "markdown",
   "metadata": {},
   "source": [
    "We are going to work with the Python libary `sympy` to do symbolic calculation."
   ]
  },
  {
   "cell_type": "code",
   "execution_count": 1,
   "metadata": {},
   "outputs": [],
   "source": [
    "from sympy import *\n",
    "from IPython.display import display, Math"
   ]
  },
  {
   "attachments": {},
   "cell_type": "markdown",
   "metadata": {},
   "source": [
    "#### **3) *Christoffel* symbols**"
   ]
  },
  {
   "attachments": {},
   "cell_type": "markdown",
   "metadata": {},
   "source": [
    "**a)** Generate a new program to compute the *Christoffel* symbols **for a spherical coordinate system** in $\\R^3$. Use two different ways for the construction of the symbols."
   ]
  },
  {
   "attachments": {},
   "cell_type": "markdown",
   "metadata": {},
   "source": [
    "1. Define the orientation vector $\\boldsymbol{R}(\\theta^1, \\theta^2, \\theta^3)$ with respect to $\\theta^i$"
   ]
  },
  {
   "cell_type": "code",
   "execution_count": 2,
   "metadata": {},
   "outputs": [
    {
     "data": {
      "text/latex": [
       "$\\displaystyle \\boldsymbol{R}(\\theta^1, \\theta^2, \\theta^3) =\\left[\\begin{matrix}\\theta^{1} \\cos{\\left(\\theta^{2} \\right)} \\cos{\\left(\\theta^{3} \\right)}\\\\\\theta^{1} \\sin{\\left(\\theta^{2} \\right)} \\cos{\\left(\\theta^{3} \\right)}\\\\\\theta^{1} \\sin{\\left(\\theta^{3} \\right)}\\end{matrix}\\right]$"
      ],
      "text/plain": [
       "<IPython.core.display.Math object>"
      ]
     },
     "metadata": {},
     "output_type": "display_data"
    }
   ],
   "source": [
    "th1, th2, th3 = symbols('theta^1 theta^2 theta^3')\n",
    "\n",
    "x1 = th1*cos(th2)*cos(th3)\n",
    "x2 = th1*sin(th2)*cos(th3)\n",
    "x3 = th1*sin(th3)\n",
    "\n",
    "R=Matrix([x1, x2, x3])\n",
    "\n",
    "display(Math(r'\\boldsymbol{R}(\\theta^1, \\theta^2, \\theta^3) ='+latex(R)))"
   ]
  },
  {
   "attachments": {},
   "cell_type": "markdown",
   "metadata": {},
   "source": [
    "2. The basis vectors can be computed as the partial derivatives of the orientation Vector $ \\boldsymbol{g}_i = \\frac{\\partial \\boldsymbol{R}}{\\partial \\theta^i} $."
   ]
  },
  {
   "cell_type": "code",
   "execution_count": 3,
   "metadata": {},
   "outputs": [
    {
     "data": {
      "text/latex": [
       "$\\displaystyle \\boldsymbol{g}_1=\\left[\\begin{matrix}\\cos{\\left(\\theta^{2} \\right)} \\cos{\\left(\\theta^{3} \\right)}\\\\\\sin{\\left(\\theta^{2} \\right)} \\cos{\\left(\\theta^{3} \\right)}\\\\\\sin{\\left(\\theta^{3} \\right)}\\end{matrix}\\right]$"
      ],
      "text/plain": [
       "<IPython.core.display.Math object>"
      ]
     },
     "metadata": {},
     "output_type": "display_data"
    },
    {
     "data": {
      "text/latex": [
       "$\\displaystyle \\boldsymbol{g}_2=\\left[\\begin{matrix}- \\theta^{1} \\sin{\\left(\\theta^{2} \\right)} \\cos{\\left(\\theta^{3} \\right)}\\\\\\theta^{1} \\cos{\\left(\\theta^{2} \\right)} \\cos{\\left(\\theta^{3} \\right)}\\\\0\\end{matrix}\\right]$"
      ],
      "text/plain": [
       "<IPython.core.display.Math object>"
      ]
     },
     "metadata": {},
     "output_type": "display_data"
    },
    {
     "data": {
      "text/latex": [
       "$\\displaystyle \\boldsymbol{g}_3=\\left[\\begin{matrix}- \\theta^{1} \\sin{\\left(\\theta^{3} \\right)} \\cos{\\left(\\theta^{2} \\right)}\\\\- \\theta^{1} \\sin{\\left(\\theta^{2} \\right)} \\sin{\\left(\\theta^{3} \\right)}\\\\\\theta^{1} \\cos{\\left(\\theta^{3} \\right)}\\end{matrix}\\right]$"
      ],
      "text/plain": [
       "<IPython.core.display.Math object>"
      ]
     },
     "metadata": {},
     "output_type": "display_data"
    }
   ],
   "source": [
    "g1_cov = diff(R, th1)\n",
    "g2_cov = diff(R, th2)\n",
    "g3_cov = diff(R, th3)\n",
    "\n",
    "display(Math(r'\\boldsymbol{g}_1='+latex(g1_cov)))\n",
    "display(Math(r'\\boldsymbol{g}_2='+latex(g2_cov)))\n",
    "display(Math(r'\\boldsymbol{g}_3='+latex(g3_cov)))"
   ]
  },
  {
   "attachments": {},
   "cell_type": "markdown",
   "metadata": {},
   "source": [
    "3. The derivatives of the basis vectors are than given by $ \\boldsymbol{g}_{i,j} = \\frac{\\partial^2 \\boldsymbol{R}}{\\partial \\theta^i \\partial \\theta^j} $."
   ]
  },
  {
   "cell_type": "code",
   "execution_count": 4,
   "metadata": {},
   "outputs": [
    {
     "data": {
      "text/latex": [
       "$\\displaystyle \\boldsymbol{g}_{1,1}=\\left[\\begin{matrix}0\\\\0\\\\0\\end{matrix}\\right], \\ \\boldsymbol{g}_{1,2}=\\left[\\begin{matrix}- \\sin{\\left(\\theta^{2} \\right)} \\cos{\\left(\\theta^{3} \\right)}\\\\\\cos{\\left(\\theta^{2} \\right)} \\cos{\\left(\\theta^{3} \\right)}\\\\0\\end{matrix}\\right], \\ \\boldsymbol{g}_{1,3}=\\left[\\begin{matrix}- \\sin{\\left(\\theta^{3} \\right)} \\cos{\\left(\\theta^{2} \\right)}\\\\- \\sin{\\left(\\theta^{2} \\right)} \\sin{\\left(\\theta^{3} \\right)}\\\\\\cos{\\left(\\theta^{3} \\right)}\\end{matrix}\\right]$"
      ],
      "text/plain": [
       "<IPython.core.display.Math object>"
      ]
     },
     "metadata": {},
     "output_type": "display_data"
    },
    {
     "data": {
      "text/latex": [
       "$\\displaystyle \\boldsymbol{g}_{2,1}=\\left[\\begin{matrix}- \\sin{\\left(\\theta^{2} \\right)} \\cos{\\left(\\theta^{3} \\right)}\\\\\\cos{\\left(\\theta^{2} \\right)} \\cos{\\left(\\theta^{3} \\right)}\\\\0\\end{matrix}\\right], \\ \\boldsymbol{g}_{2,2}=\\left[\\begin{matrix}- \\theta^{1} \\cos{\\left(\\theta^{2} \\right)} \\cos{\\left(\\theta^{3} \\right)}\\\\- \\theta^{1} \\sin{\\left(\\theta^{2} \\right)} \\cos{\\left(\\theta^{3} \\right)}\\\\0\\end{matrix}\\right], \\ \\boldsymbol{g}_{2,3}=\\left[\\begin{matrix}\\theta^{1} \\sin{\\left(\\theta^{2} \\right)} \\sin{\\left(\\theta^{3} \\right)}\\\\- \\theta^{1} \\sin{\\left(\\theta^{3} \\right)} \\cos{\\left(\\theta^{2} \\right)}\\\\0\\end{matrix}\\right]$"
      ],
      "text/plain": [
       "<IPython.core.display.Math object>"
      ]
     },
     "metadata": {},
     "output_type": "display_data"
    },
    {
     "data": {
      "text/latex": [
       "$\\displaystyle \\boldsymbol{g}_{3,1}=\\left[\\begin{matrix}- \\sin{\\left(\\theta^{3} \\right)} \\cos{\\left(\\theta^{2} \\right)}\\\\- \\sin{\\left(\\theta^{2} \\right)} \\sin{\\left(\\theta^{3} \\right)}\\\\\\cos{\\left(\\theta^{3} \\right)}\\end{matrix}\\right], \\ \\boldsymbol{g}_{3,2}=\\left[\\begin{matrix}\\theta^{1} \\sin{\\left(\\theta^{2} \\right)} \\sin{\\left(\\theta^{3} \\right)}\\\\- \\theta^{1} \\sin{\\left(\\theta^{3} \\right)} \\cos{\\left(\\theta^{2} \\right)}\\\\0\\end{matrix}\\right], \\ \\boldsymbol{g}_{3,3}=\\left[\\begin{matrix}- \\theta^{1} \\cos{\\left(\\theta^{2} \\right)} \\cos{\\left(\\theta^{3} \\right)}\\\\- \\theta^{1} \\sin{\\left(\\theta^{2} \\right)} \\cos{\\left(\\theta^{3} \\right)}\\\\- \\theta^{1} \\sin{\\left(\\theta^{3} \\right)}\\end{matrix}\\right]$"
      ],
      "text/plain": [
       "<IPython.core.display.Math object>"
      ]
     },
     "metadata": {},
     "output_type": "display_data"
    }
   ],
   "source": [
    "gi_cov = [g1_cov, g2_cov, g3_cov] # 1D-array containing the basis vectors\n",
    "th = [th1, th2, th3] # 1D-array containing the coordinates \\theta^1 to \\theta^3\n",
    "gi_j = [ [0 for i in range(3)] for j in range(3)] # emty 2D-array\n",
    "\n",
    "for i in range(3):\n",
    "    for j in range(i+1):\n",
    "        gi_j[i][j] = diff(gi_cov[i], th[j])\n",
    "        if i != j:\n",
    "            gi_j[j][i] = gi_j[i][j]\n",
    "\n",
    "display(Math(r'\\boldsymbol{g}_{1,1}='+latex(gi_j[0][0])+r', \\ \\boldsymbol{g}_{1,2}='+latex(gi_j[0][1])+r', \\ \\boldsymbol{g}_{1,3}='+latex(gi_j[0][2])))\n",
    "display(Math(r'\\boldsymbol{g}_{2,1}='+latex(gi_j[1][0])+r', \\ \\boldsymbol{g}_{2,2}='+latex(gi_j[1][1])+r', \\ \\boldsymbol{g}_{2,3}='+latex(gi_j[1][2])))\n",
    "display(Math(r'\\boldsymbol{g}_{3,1}='+latex(gi_j[2][0])+r', \\ \\boldsymbol{g}_{3,2}='+latex(gi_j[2][1])+r', \\ \\boldsymbol{g}_{3,3}='+latex(gi_j[2][2])))"
   ]
  },
  {
   "attachments": {},
   "cell_type": "markdown",
   "metadata": {},
   "source": [
    "4. Option A: Computing the *Christoffel* symbols of first kind using $\\Gamma_{ijk}=g_{i,j} \\ast g_k$."
   ]
  },
  {
   "cell_type": "code",
   "execution_count": 5,
   "metadata": {},
   "outputs": [
    {
     "data": {
      "text/latex": [
       "$\\displaystyle \\Gamma_{ij1}=\\left[\\begin{matrix}0 & 0 & 0\\\\0 & - \\theta^{1} \\cos^{2}{\\left(\\theta^{3} \\right)} & 0\\\\0 & 0 & - \\theta^{1}\\end{matrix}\\right]$"
      ],
      "text/plain": [
       "<IPython.core.display.Math object>"
      ]
     },
     "metadata": {},
     "output_type": "display_data"
    },
    {
     "data": {
      "text/latex": [
       "$\\displaystyle \\Gamma_{ij2}=\\left[\\begin{matrix}0 & \\theta^{1} \\cos^{2}{\\left(\\theta^{3} \\right)} & 0\\\\\\theta^{1} \\cos^{2}{\\left(\\theta^{3} \\right)} & 0 & - \\frac{\\left(\\theta^{1}\\right)^{2} \\sin{\\left(2 \\theta^{3} \\right)}}{2}\\\\0 & - \\frac{\\left(\\theta^{1}\\right)^{2} \\sin{\\left(2 \\theta^{3} \\right)}}{2} & 0\\end{matrix}\\right]$"
      ],
      "text/plain": [
       "<IPython.core.display.Math object>"
      ]
     },
     "metadata": {},
     "output_type": "display_data"
    },
    {
     "data": {
      "text/latex": [
       "$\\displaystyle \\Gamma_{ij3}=\\left[\\begin{matrix}0 & 0 & \\theta^{1}\\\\0 & \\frac{\\left(\\theta^{1}\\right)^{2} \\sin{\\left(2 \\theta^{3} \\right)}}{2} & 0\\\\\\theta^{1} & 0 & 0\\end{matrix}\\right]$"
      ],
      "text/plain": [
       "<IPython.core.display.Math object>"
      ]
     },
     "metadata": {},
     "output_type": "display_data"
    }
   ],
   "source": [
    "GammaFirst = [[ [0 for i in range(3)] for j in range(3)] for k in range(3)] # empty 3D-Array\n",
    "\n",
    "for i in range(3):\n",
    "    for j in range(i+1):\n",
    "        for k in range(3):\n",
    "            GammaFirst[i][j][k] = (simplify((gi_j[i][j]).T * gi_cov[k]))[0]\n",
    "            if i != j:\n",
    "                GammaFirst[j][i][k] = GammaFirst[i][j][k]\n",
    "\n",
    "for i in range(3):\n",
    "    display(Math(r'\\Gamma_{ij'+f'{i+1}'+r'}='+latex(Array(GammaFirst)[:,:,i])))"
   ]
  },
  {
   "attachments": {},
   "cell_type": "markdown",
   "metadata": {},
   "source": [
    "5. Option B: Computing the *Christoffel* symbols of first kind using $\\Gamma_{ijk}=\\frac{1}{2} \\left( g_{jk,i} + g_{ki,j} - g_{ij,k} \\right)$."
   ]
  },
  {
   "attachments": {},
   "cell_type": "markdown",
   "metadata": {},
   "source": [
    "- First we calculate the covariant metric using the Jacobian via $\\left[ g_{ij} \\right] =\\boldsymbol{J} \\boldsymbol{J}^\\top$."
   ]
  },
  {
   "cell_type": "code",
   "execution_count": 6,
   "metadata": {},
   "outputs": [
    {
     "data": {
      "text/latex": [
       "$\\displaystyle \\left[g_{ij}\\right]=\\left[\\begin{matrix}1 & 0 & 0\\\\0 & \\left(\\theta^{1}\\right)^{2} \\cos^{2}{\\left(\\theta^{3} \\right)} & 0\\\\0 & 0 & \\left(\\theta^{1}\\right)^{2}\\end{matrix}\\right]$"
      ],
      "text/plain": [
       "<IPython.core.display.Math object>"
      ]
     },
     "metadata": {},
     "output_type": "display_data"
    }
   ],
   "source": [
    "J = Matrix([g1_cov.T, \n",
    "            g2_cov.T, \n",
    "            g3_cov.T])\n",
    "\n",
    "gij_cov = simplify(J*J.T)\n",
    "\n",
    "display(Math(r'\\left[g_{ij}\\right]='+latex(gij_cov)))"
   ]
  },
  {
   "attachments": {},
   "cell_type": "markdown",
   "metadata": {},
   "source": [
    "- Than we can calculate the  *Christoffel* symbols of first kind"
   ]
  },
  {
   "cell_type": "code",
   "execution_count": 7,
   "metadata": {},
   "outputs": [
    {
     "data": {
      "text/latex": [
       "$\\displaystyle \\Gamma_{ij1}=\\left[\\begin{matrix}0 & 0 & 0\\\\0 & - \\theta^{1} \\cos^{2}{\\left(\\theta^{3} \\right)} & 0\\\\0 & 0 & - \\theta^{1}\\end{matrix}\\right]$"
      ],
      "text/plain": [
       "<IPython.core.display.Math object>"
      ]
     },
     "metadata": {},
     "output_type": "display_data"
    },
    {
     "data": {
      "text/latex": [
       "$\\displaystyle \\Gamma_{ij2}=\\left[\\begin{matrix}0 & \\theta^{1} \\cos^{2}{\\left(\\theta^{3} \\right)} & 0\\\\\\theta^{1} \\cos^{2}{\\left(\\theta^{3} \\right)} & 0 & - \\left(\\theta^{1}\\right)^{2} \\sin{\\left(\\theta^{3} \\right)} \\cos{\\left(\\theta^{3} \\right)}\\\\0 & - \\left(\\theta^{1}\\right)^{2} \\sin{\\left(\\theta^{3} \\right)} \\cos{\\left(\\theta^{3} \\right)} & 0\\end{matrix}\\right]$"
      ],
      "text/plain": [
       "<IPython.core.display.Math object>"
      ]
     },
     "metadata": {},
     "output_type": "display_data"
    },
    {
     "data": {
      "text/latex": [
       "$\\displaystyle \\Gamma_{ij3}=\\left[\\begin{matrix}0 & 0 & \\theta^{1}\\\\0 & \\left(\\theta^{1}\\right)^{2} \\sin{\\left(\\theta^{3} \\right)} \\cos{\\left(\\theta^{3} \\right)} & 0\\\\\\theta^{1} & 0 & 0\\end{matrix}\\right]$"
      ],
      "text/plain": [
       "<IPython.core.display.Math object>"
      ]
     },
     "metadata": {},
     "output_type": "display_data"
    }
   ],
   "source": [
    "GammaFirst = [[ [0 for i in range(3)] for j in range(3)] for k in range(3)] # empty 3D-Array\n",
    "\n",
    "for i in range(3):\n",
    "    for j in range(i+1):\n",
    "        for k in range(3):\n",
    "            GammaFirst[i][j][k] = nsimplify( 1/2 * (diff(gij_cov[j, k], th[i]) + diff(gij_cov[k, i], th[j]) - diff(gij_cov[i, j], th[k])) )\n",
    "            if i != j:\n",
    "                GammaFirst[j][i][k] = GammaFirst[i][j][k]\n",
    "\n",
    "for i in range(3):\n",
    "    display(Math(r'\\Gamma_{ij'+f'{i+1}'+r'}='+latex(Array(GammaFirst)[:,:,i])))"
   ]
  },
  {
   "attachments": {},
   "cell_type": "markdown",
   "metadata": {},
   "source": [
    "6. Computing the *Christoffel* symbols of second kind using $\\Gamma_{ij}^{\\ \\ \\ \\ k} = \\Gamma_{ijs} g^{sk}$"
   ]
  },
  {
   "attachments": {},
   "cell_type": "markdown",
   "metadata": {},
   "source": [
    "- First we calculate the contravariant metric via $\\left[ g^{ij} \\right] = \\left[ g_{ij} \\right]^{-1}$."
   ]
  },
  {
   "cell_type": "code",
   "execution_count": 8,
   "metadata": {},
   "outputs": [
    {
     "data": {
      "text/latex": [
       "$\\displaystyle \\left[g^{ij}\\right]=\\left[\\begin{matrix}1 & 0 & 0\\\\0 & \\frac{1}{\\left(\\theta^{1}\\right)^{2} \\cos^{2}{\\left(\\theta^{3} \\right)}} & 0\\\\0 & 0 & \\frac{1}{\\left(\\theta^{1}\\right)^{2}}\\end{matrix}\\right]$"
      ],
      "text/plain": [
       "<IPython.core.display.Math object>"
      ]
     },
     "metadata": {},
     "output_type": "display_data"
    }
   ],
   "source": [
    "gij_con = gij_cov**-1\n",
    "\n",
    "display(Math(r'\\left[g^{ij}\\right]='+latex(gij_con)))"
   ]
  },
  {
   "attachments": {},
   "cell_type": "markdown",
   "metadata": {},
   "source": [
    "- Than we can calculate the  *Christoffel* symbols of second kind."
   ]
  },
  {
   "cell_type": "code",
   "execution_count": 9,
   "metadata": {},
   "outputs": [
    {
     "data": {
      "text/latex": [
       "$\\displaystyle \\Gamma_{ij}^{\\ \\ \\ \\ 1}=\\left[\\begin{matrix}0 & 0 & 0\\\\0 & - \\theta^{1} \\cos^{2}{\\left(\\theta^{3} \\right)} & 0\\\\0 & 0 & - \\theta^{1}\\end{matrix}\\right]$"
      ],
      "text/plain": [
       "<IPython.core.display.Math object>"
      ]
     },
     "metadata": {},
     "output_type": "display_data"
    },
    {
     "data": {
      "text/latex": [
       "$\\displaystyle \\Gamma_{ij}^{\\ \\ \\ \\ 2}=\\left[\\begin{matrix}0 & \\frac{1}{\\theta^{1}} & 0\\\\\\frac{1}{\\theta^{1}} & 0 & - \\frac{\\sin{\\left(\\theta^{3} \\right)}}{\\cos{\\left(\\theta^{3} \\right)}}\\\\0 & - \\frac{\\sin{\\left(\\theta^{3} \\right)}}{\\cos{\\left(\\theta^{3} \\right)}} & 0\\end{matrix}\\right]$"
      ],
      "text/plain": [
       "<IPython.core.display.Math object>"
      ]
     },
     "metadata": {},
     "output_type": "display_data"
    },
    {
     "data": {
      "text/latex": [
       "$\\displaystyle \\Gamma_{ij}^{\\ \\ \\ \\ 3}=\\left[\\begin{matrix}0 & 0 & \\frac{1}{\\theta^{1}}\\\\0 & \\sin{\\left(\\theta^{3} \\right)} \\cos{\\left(\\theta^{3} \\right)} & 0\\\\\\frac{1}{\\theta^{1}} & 0 & 0\\end{matrix}\\right]$"
      ],
      "text/plain": [
       "<IPython.core.display.Math object>"
      ]
     },
     "metadata": {},
     "output_type": "display_data"
    }
   ],
   "source": [
    "GammaSecond = [[ [0 for i in range(3)] for j in range(3)] for k in range(3)] # 3D-list with zeros\n",
    "\n",
    "for i in range(3):\n",
    "    for j in range(i+1):\n",
    "        for k  in range(3):\n",
    "            for s in range(3):\n",
    "                GammaSecond[i][j][k] = GammaSecond[i][j][k] + GammaFirst[i][j][s] * gij_con[s, k] \n",
    "            if i != j:\n",
    "                GammaSecond[j][i][k] = GammaSecond[i][j][k]\n",
    "\n",
    "\n",
    "for i in range(3):\n",
    "    display(Math(r'\\Gamma_{ij}^{\\ \\ \\ \\ '+f'{i+1}'+r'}='+latex(Array(GammaSecond)[:,:,i])))"
   ]
  }
 ],
 "metadata": {
  "kernelspec": {
   "display_name": "Python 3.8.3 ('jupyter_project_env': venv)",
   "language": "python",
   "name": "python3"
  },
  "language_info": {
   "codemirror_mode": {
    "name": "ipython",
    "version": 3
   },
   "file_extension": ".py",
   "mimetype": "text/x-python",
   "name": "python",
   "nbconvert_exporter": "python",
   "pygments_lexer": "ipython3",
   "version": "3.8.3"
  },
  "orig_nbformat": 4,
  "vscode": {
   "interpreter": {
    "hash": "cb9a74498ecd92a9c3ba25d818700cecc3287145ef109cbc22e4c095e4b402b3"
   }
  }
 },
 "nbformat": 4,
 "nbformat_minor": 2
}
