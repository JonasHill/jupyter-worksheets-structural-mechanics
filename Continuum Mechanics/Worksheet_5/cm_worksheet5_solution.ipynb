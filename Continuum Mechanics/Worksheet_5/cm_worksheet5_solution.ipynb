{
 "cells": [
  {
   "attachments": {},
   "cell_type": "markdown",
   "metadata": {},
   "source": [
    "### **Continuum Mechanics - Worksheet 5**\n",
    "##### Winter Term 2022/2023"
   ]
  },
  {
   "attachments": {},
   "cell_type": "markdown",
   "metadata": {},
   "source": [
    "We are going to work with the Python libary `sympy` to do symbolic calculation."
   ]
  },
  {
   "cell_type": "code",
   "execution_count": null,
   "metadata": {},
   "outputs": [],
   "source": [
    "from sympy import *\n",
    "from IPython.display import display, Math, Latex\n",
    "from sympy.plotting import plot, plot3d, PlotGrid"
   ]
  },
  {
   "attachments": {},
   "cell_type": "markdown",
   "metadata": {},
   "source": [
    "#### **1) Energy principles - rigid bodies**"
   ]
  },
  {
   "attachments": {},
   "cell_type": "markdown",
   "metadata": {},
   "source": [
    "<img src=\"./images/cm_5_1.png\" alt=\"5_1\" width=\"350\"/>"
   ]
  },
  {
   "attachments": {},
   "cell_type": "markdown",
   "metadata": {},
   "source": [
    "- decomposition of displacements and forces:"
   ]
  },
  {
   "cell_type": "code",
   "execution_count": null,
   "metadata": {},
   "outputs": [],
   "source": [
    "uA1, uA2, uB = symbols('u_A1 u_A2 u_B')\n",
    "F1, F2 = symbols('F_1 F_2')\n",
    "\n",
    "a = 1.0\n",
    "b = 1.75\n",
    "c = sqrt(a**2 + b**2)\n",
    "sinb = a / c\n",
    "cosb = b / c\n",
    "\n",
    "alpha = pi/4\n",
    "beta = asin(sinb)\n",
    "gamma = alpha - beta\n",
    "\n",
    "uB_C1 = uB\n",
    "uB_C2 = round(sinb, 3) * uB\n",
    "uA1_C3 = round(sinb, 3) * uA1\n",
    "uA2_C3 = - round(cosb, 3) * uA2\n",
    "uA1_C4 = - uA1\n",
    "uB_C4 = - round(cosb, 3) * uB\n",
    "\n",
    "F1_uA1 = - F1\n",
    "F2_uB = round(cos(gamma), 3) * F2\n",
    "\n",
    "display(Math(r'u_{B,C1}='+latex(uB_C1)))\n",
    "display(Math(r'u_{B,C2}='+latex(uB_C2)))\n",
    "display(Math(r'u_{A1,C3}='+latex(uA1_C3)))\n",
    "display(Math(r'u_{A2,C3}='+latex(uA2_C3)))\n",
    "display(Math(r'u_{A1,C4}='+latex(uA1_C4)))\n",
    "display(Math(r'u_{B,C4}='+latex(uB_C4)))\n",
    "display(Math(r'---------'))\n",
    "display(Math(r'F_{1,u_{A1}}='+latex(F1_uA1)))\n",
    "display(Math(r'F_{2,u_B}='+latex(F2_uB)))\n",
    "\n"
   ]
  },
  {
   "cell_type": "code",
   "execution_count": null,
   "metadata": {},
   "outputs": [],
   "source": [
    "Dw1 = uB_C1\n",
    "Dw2 = uB_C2\n",
    "Dw3 = uA1_C3 + uA2_C3\n",
    "Dw4 = uA1_C4 + uB_C4\n",
    "\n",
    "display(Math(r'\\Delta w_1='+latex(Dw1)))\n",
    "display(Math(r'\\Delta w_2='+latex(Dw2)))\n",
    "display(Math(r'\\Delta w_3='+latex(Dw3)))\n",
    "display(Math(r'\\Delta w_4='+latex(Dw4)))"
   ]
  },
  {
   "attachments": {},
   "cell_type": "markdown",
   "metadata": {},
   "source": [
    "**a)** internal potential energy $\\Pi_i$"
   ]
  },
  {
   "attachments": {},
   "cell_type": "markdown",
   "metadata": {},
   "source": [
    "where $\\Pi_{i,\\text{spring}_j} = \\frac{1}{2} c_j ( \\Delta w )^2$ "
   ]
  },
  {
   "cell_type": "code",
   "execution_count": null,
   "metadata": {},
   "outputs": [],
   "source": [
    "c1, c2, c3, c4 = symbols('c_1 c_2 c_3 c_4')\n",
    "\n",
    "Pi_i1 = 0.5 * c1 * Dw1**2\n",
    "Pi_i2 = 0.5 * c2 * Dw2**2\n",
    "Pi_i3 = 0.5 * c3 * Dw3**2\n",
    "Pi_i4 = 0.5 * c4 * Dw4**2\n",
    "\n",
    "Pi_i = Pi_i1 + Pi_i2 + Pi_i3 + Pi_i4\n",
    "\n",
    "display(Math(r'\\Pi_i='+latex(Pi_i)))"
   ]
  },
  {
   "attachments": {},
   "cell_type": "markdown",
   "metadata": {},
   "source": [
    "**b)** external potential energy $\\Pi_e$"
   ]
  },
  {
   "attachments": {},
   "cell_type": "markdown",
   "metadata": {},
   "source": [
    "where $\\Pi_{e,\\text{force}_j} = - F_{u_j} u_j$ "
   ]
  },
  {
   "cell_type": "code",
   "execution_count": null,
   "metadata": {},
   "outputs": [],
   "source": [
    "Pi_e = - uA1 * F1_uA1 - uB * F2_uB\n",
    "\n",
    "display(Math(r'\\Pi_e='+latex(Pi_e)))"
   ]
  },
  {
   "attachments": {},
   "cell_type": "markdown",
   "metadata": {},
   "source": [
    "**c)** stiffness matrix $\\left[ K_{ij} \\right]$ and load vector $\\left[ F_j \\right]$"
   ]
  },
  {
   "attachments": {},
   "cell_type": "markdown",
   "metadata": {},
   "source": [
    "where $K_{ij} = \\frac{\\partial^2 \\Pi_i}{\\partial u_i \\partial u_j}$ "
   ]
  },
  {
   "cell_type": "code",
   "execution_count": null,
   "metadata": {},
   "outputs": [],
   "source": [
    "K_ij = [[ 0 for i in range(3)] for j in range(3)]\n",
    "u_i = [uB, uA1, uA2]\n",
    "\n",
    "for i in range(3):\n",
    "    for j in range(i+1):\n",
    "        K_ij[i][j] = diff(diff(Pi_i, u_i[i]), u_i[j])\n",
    "        if i != j:\n",
    "            K_ij[j][i] = K_ij[i][j]\n",
    "\n",
    "K_ij = Matrix(K_ij)\n",
    "\n",
    "display(Math(r'\\left[ K_{ij} \\right]='+latex(K_ij)))\n"
   ]
  },
  {
   "attachments": {},
   "cell_type": "markdown",
   "metadata": {},
   "source": [
    "where $F_{i} = - \\frac{\\partial\\Pi_e}{\\partial u_i}$ "
   ]
  },
  {
   "cell_type": "code",
   "execution_count": null,
   "metadata": {},
   "outputs": [],
   "source": [
    "F_i = [0, 0, 0]\n",
    "u_i = [uB, uA1, uA2]\n",
    "\n",
    "for i in range(3):\n",
    "    F_i[i] = - diff(Pi_e, u_i[i])\n",
    "\n",
    "F_i = Matrix(F_i)\n",
    "\n",
    "display(Math(r'\\left[ F_{j} \\right]='+latex(F_i)))"
   ]
  },
  {
   "attachments": {},
   "cell_type": "markdown",
   "metadata": {},
   "source": [
    "#### **2) Approximate solutions using energy principles - elastic systems**"
   ]
  },
  {
   "attachments": {},
   "cell_type": "markdown",
   "metadata": {},
   "source": [
    "<img src=\"./images/cm_5_2.png\" alt=\"5_1\" width=\"350\"/>"
   ]
  },
  {
   "attachments": {},
   "cell_type": "markdown",
   "metadata": {},
   "source": [
    "**a)** suitable shape function $\\Psi_i(x)$"
   ]
  },
  {
   "cell_type": "code",
   "execution_count": null,
   "metadata": {},
   "outputs": [],
   "source": [
    "x, l = symbols('x l')\n",
    "\n",
    "Psi1 = 1 - 3 * (x/l)**2 + 2 * (x/l)**3\n",
    "Psi2 = x * (1 - x/l)**2\n",
    "Psi3 = 3 * (x/l)**2 - 2*(x/l)**3\n",
    "Psi4 = x**2/l * (x/l - 1)\n",
    "\n",
    "display(Math(r'\\Psi_1(x)='+latex(Psi1)))\n",
    "display(Math(r'\\Psi_2(x)='+latex(Psi2)))\n",
    "display(Math(r'\\Psi_3(x)='+latex(Psi3)))\n",
    "display(Math(r'\\Psi_4(x)='+latex(Psi4)))"
   ]
  },
  {
   "cell_type": "code",
   "execution_count": null,
   "metadata": {},
   "outputs": [],
   "source": [
    "x, y = symbols('x, y')\n",
    "p1 = plot(Psi1.subs(l, 1), (x, 0, 1), xlabel='x/l', ylabel='Ψ1', show=false)\n",
    "p2 = plot(Psi2.subs(l, 1), (x, 0, 1), xlabel='x/l', ylabel='Ψ2', show=false)\n",
    "p3 = plot(Psi3.subs(l, 1), (x, 0, 1), xlabel='x/l', ylabel='Ψ3', show=false)\n",
    "p4 = plot(Psi4.subs(l, 1), (x, 0, 1), xlabel='x/l', ylabel='Ψ4', show=false)\n",
    "PlotGrid(2, 2, p1, p2, p3, p4)\n",
    "\n"
   ]
  },
  {
   "attachments": {},
   "cell_type": "markdown",
   "metadata": {},
   "source": [
    "ansatz:\n",
    "\n",
    "$\\Rightarrow$ $\\hat{w}(x) = w_B \\cdot \\Psi_3(x) $\n"
   ]
  },
  {
   "attachments": {},
   "cell_type": "markdown",
   "metadata": {},
   "source": [
    "**b)** internal potential $\\Pi_i$"
   ]
  },
  {
   "attachments": {},
   "cell_type": "markdown",
   "metadata": {},
   "source": [
    "where \n",
    "\n",
    "$\\Pi_{i, \\text{beam}} = \\int_0^l \\frac{1}{2} EI \\hat{w}^{\\prime \\prime}(x)^2 dx$\n",
    "\n",
    "and \n",
    "\n",
    "$\\Pi_{i, \\text{bedding}} = \\int_0^l \\frac{1}{2} k_z \\hat{w}(x)^2 dx$"
   ]
  },
  {
   "cell_type": "code",
   "execution_count": null,
   "metadata": {},
   "outputs": [],
   "source": [
    "EI, k_z = symbols('EI k_z')\n",
    "wB = symbols('w_B')\n",
    "\n",
    "w = wB * Psi3\n",
    "wI = diff(w, x)\n",
    "wII = diff(wI, x)\n",
    "\n",
    "Pi_i = integrate(1/2 * EI * wII**2 + 1/2 * k_z * w**2, (x, 0, l))\n",
    "\n",
    "display(Math(r'\\Pi_i='+latex(nsimplify(Pi_i))))\n"
   ]
  },
  {
   "attachments": {},
   "cell_type": "markdown",
   "metadata": {},
   "source": [
    "**c)** external potential $\\Pi_e$"
   ]
  },
  {
   "attachments": {},
   "cell_type": "markdown",
   "metadata": {},
   "source": [
    "where \n",
    "\n",
    "$\\Pi_{i, \\text{line load}} = \\int_0^l p(x) \\hat{w}(x) dx \\quad \\quad$ (note that the sign is positive because w and p are defined in opposite directions)\n",
    "\n",
    "and \n",
    "\n",
    "$\\Pi_{i, \\text{point load}} = F \\cdot \\hat{u}(l) \\quad \\quad$ (note that the sign is positive because u and F are defined in opposite directions)"
   ]
  },
  {
   "cell_type": "code",
   "execution_count": null,
   "metadata": {},
   "outputs": [],
   "source": [
    "p, F = symbols('p F')\n",
    "\n",
    "# Theorie of 2nd order:\n",
    "ul = integrate(-1/2 * wI**2, (x, 0, l))\n",
    "\n",
    "Pi_e =integrate(p * w, (x, 0, l)) + F * ul \n",
    "\n",
    "display(Math(r'u(l)='+latex(nsimplify(ul))))\n",
    "display(Math(r'\\Pi_e='+latex(nsimplify(Pi_e))))"
   ]
  },
  {
   "cell_type": "code",
   "execution_count": null,
   "metadata": {},
   "outputs": [],
   "source": [
    "Pi_tot = Pi_i + Pi_e\n",
    "\n",
    "wB_solved = solveset(diff(Pi_tot, wB), wB).args[0]\n",
    "\n",
    "display(Math(r'w_B='+latex(nsimplify(wB_solved))))"
   ]
  },
  {
   "cell_type": "code",
   "execution_count": null,
   "metadata": {},
   "outputs": [],
   "source": [
    "w_solved = wB_solved * Psi3\n",
    "ul_solved = ul.subs(wB, wB_solved)\n",
    "\n",
    "display(Math(r'u(l)='+latex(nsimplify(ul_solved))))\n",
    "plot(w_solved.subs([(l, 1), (EI, 1), (p, 1), (F, 1), (k_z, 1)]), (x, 0, 1), xlabel='x/l', ylabel='w(x)', size=(5, 3))"
   ]
  },
  {
   "attachments": {},
   "cell_type": "markdown",
   "metadata": {},
   "source": [
    "#### **3) Approximate solutions using energy principles - elastic systems**"
   ]
  },
  {
   "attachments": {},
   "cell_type": "markdown",
   "metadata": {},
   "source": [
    "<img src=\"./images/cm_5_3.png\" alt=\"5_3\" width=\"200\"/>"
   ]
  },
  {
   "cell_type": "code",
   "execution_count": null,
   "metadata": {},
   "outputs": [],
   "source": [
    "l = symbols('l')\n",
    "\n",
    "u1, u2, u3 = symbols('u_1 u_2 u_3')\n",
    "x1, x2, x3 = symbols('x_1 x_2 x_3')\n",
    "\n",
    "l_e = l/3\n",
    "\n",
    "u_e1 = x1/l_e * u1\n",
    "u_e2 = (1 - x2/l_e) * u1 + x2/l_e * u2\n",
    "u_e3 = (1 - x3/l_e) * u2 + x3/l_e * u3\n",
    "\n",
    "display(Math(r'u(x_1)='+latex(u_e1)))\n",
    "display(Math(r'u(x_2)='+latex(u_e2)))\n",
    "display(Math(r'u(x_3)='+latex(u_e3)))\n"
   ]
  },
  {
   "cell_type": "code",
   "execution_count": null,
   "metadata": {},
   "outputs": [],
   "source": [
    "E, A0, A1 = symbols('E A_0 A_1')\n",
    "x = symbols('x')\n",
    "\n",
    "A = A1 - (A1 - A0)/l * x\n",
    "\n",
    "A_e1 = A.subs(x, x1)\n",
    "A_e2 = A.subs(x, x2 + l_e)\n",
    "A_e3 = A.subs(x, x3 + 2*l_e)\n",
    "\n",
    "display(Math(r'A(x_1)='+latex((A_e1))))\n",
    "display(Math(r'A(x_2)='+latex(A_e2)))\n",
    "display(Math(r'A(x_3)='+latex(A_e3)))\n",
    "display(Latex('Check:'))\n",
    "display(Math(r'A(x_3 = \\frac{l}{3})='+latex(A_e3.subs(x3, l/3))))"
   ]
  },
  {
   "cell_type": "code",
   "execution_count": null,
   "metadata": {},
   "outputs": [],
   "source": [
    "u_e1I = diff(u_e1, x1)\n",
    "u_e2I = diff(u_e2, x2)\n",
    "u_e3I = diff(u_e3, x3)\n",
    "\n",
    "display(Math(r'u^{\\prime}(x_1)='+latex(u_e1I)))\n",
    "display(Math(r'u^{\\prime}(x_2)='+latex(u_e2I)))\n",
    "display(Math(r'u^{\\prime}(x_3)='+latex(u_e3I)))"
   ]
  },
  {
   "cell_type": "code",
   "execution_count": null,
   "metadata": {},
   "outputs": [],
   "source": [
    "Pi_i = 0\n",
    "A_e = [A_e1, A_e2, A_e3]\n",
    "u_eI = [u_e1I, u_e2I, u_e3I]\n",
    "x_ = [x1, x2, x3]\n",
    "\n",
    "for i in range(3):\n",
    "    Pi_i = Pi_i + integrate(1/2 * E * A_e[i] * u_eI[i]**2, (x_[i], 0, l_e))\n",
    "\n",
    "display(Math(r'\\Pi_i='+r'\\frac{1}{4}\\frac{E}{l} \\left('+latex(nsimplify(expand(Pi_i/(1/4 * E/l))))+r'\\right)'))"
   ]
  },
  {
   "cell_type": "code",
   "execution_count": null,
   "metadata": {},
   "outputs": [],
   "source": [
    "gamma, F = symbols('\\gamma F')\n",
    "\n",
    "p_e1 = gamma * A_e1\n",
    "p_e2 = gamma * A_e2\n",
    "p_e3 = gamma * A_e3\n",
    "\n",
    "Pi_e = F * u3\n",
    "p_e = [p_e1, p_e2, p_e3]\n",
    "u_e = [u_e1, u_e2, u_e3]\n",
    "\n",
    "for i in range(3):\n",
    "    Pi_e = Pi_e - integrate(p_e[i] * u_e[i], (x_[i], 0, l_e))\n",
    "\n",
    "display(Math(r'\\Pi_e='+latex(nsimplify(expand(Pi_e)))))"
   ]
  },
  {
   "cell_type": "code",
   "execution_count": null,
   "metadata": {},
   "outputs": [],
   "source": [
    "K_ij = [[ 0 for i in range(3)] for j in range(3)]\n",
    "ui = [u1, u2, u3]\n",
    "\n",
    "for i in range(3):\n",
    "    for j in range(i+1):\n",
    "        K_ij[i][j] = nsimplify(simplify(diff(diff(Pi_i, ui[i]), ui[j])))\n",
    "        if i != j:\n",
    "            K_ij[j][i] = K_ij[i][j]\n",
    "\n",
    "K_ij = Matrix(K_ij)\n",
    "\n",
    "display(Math(r'\\left[ K_{ij} \\right]='+latex(K_ij)))\n"
   ]
  },
  {
   "cell_type": "code",
   "execution_count": null,
   "metadata": {},
   "outputs": [],
   "source": [
    "F_i = [0, 0, 0]\n",
    "ui = [u1, u2, u3]\n",
    "\n",
    "for i in range(3):\n",
    "    F_i[i] = nsimplify(simplify(-diff(Pi_e.subs(gamma, 26.0), ui[i])))\n",
    "\n",
    "F_i = Matrix(F_i)\n",
    "\n",
    "display(Math(r'\\left[ F_i \\right]='+latex(F_i)))"
   ]
  }
 ],
 "metadata": {
  "kernelspec": {
   "display_name": "jupyter_project_env",
   "language": "python",
   "name": "python3"
  },
  "language_info": {
   "codemirror_mode": {
    "name": "ipython",
    "version": 3
   },
   "file_extension": ".py",
   "mimetype": "text/x-python",
   "name": "python",
   "nbconvert_exporter": "python",
   "pygments_lexer": "ipython3",
   "version": "3.10.5"
  },
  "orig_nbformat": 4,
  "vscode": {
   "interpreter": {
    "hash": "faa7a684efc7dc4512bcdb696b165493a5668823ee6669aea6df5b436937d255"
   }
  }
 },
 "nbformat": 4,
 "nbformat_minor": 2
}
