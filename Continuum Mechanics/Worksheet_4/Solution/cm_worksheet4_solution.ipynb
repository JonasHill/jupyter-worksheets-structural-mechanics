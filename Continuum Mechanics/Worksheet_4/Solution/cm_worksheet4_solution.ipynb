{
 "cells": [
  {
   "cell_type": "code",
   "execution_count": null,
   "metadata": {},
   "outputs": [],
   "source": [
    "from sympy import *\n",
    "from IPython.display import display, Math"
   ]
  },
  {
   "attachments": {},
   "cell_type": "markdown",
   "metadata": {},
   "source": [
    "# 1)\n",
    "\n",
    "<img src=\"../images/WS4-1.png\" alt=\"1\" width=\"600\"/>"
   ]
  },
  {
   "attachments": {},
   "cell_type": "markdown",
   "metadata": {},
   "source": [
    "<img src=\"../images/WS4-1a.png\" alt=\"1a\" width=\"700\"/>"
   ]
  },
  {
   "cell_type": "code",
   "execution_count": null,
   "metadata": {},
   "outputs": [],
   "source": [
    "R_A = Matrix([0, 0, 0]) \n",
    "R_B = Matrix([3, 0, 0]) \n",
    "R_C = Matrix([1, 0, 3]) \n",
    "R_D = Matrix([2, 3, 0]) \n",
    "\n",
    "G_1 = R_B - R_A\n",
    "G_2 = R_D - R_A \n",
    "G_3 = R_C - R_A \n",
    "\n",
    "display(Math(r'\\boldsymbol{G}_1='+latex(G_1)))\n",
    "display(Math(r'\\boldsymbol{G}_2='+latex(G_2)))\n",
    "display(Math(r'\\boldsymbol{G}_3='+latex(G_3)))"
   ]
  },
  {
   "cell_type": "code",
   "execution_count": null,
   "metadata": {},
   "outputs": [],
   "source": [
    "theta_1, theta_2, theta_3 = symbols('theta^1 theta^2 theta^3')\n",
    "eta_A = 1 - theta_1 - theta_2 - theta_3\n",
    "eta_B = theta_1\n",
    "eta_C = theta_3\n",
    "eta_D = theta_2\n",
    "\n",
    "R = eta_A * R_A + eta_B * R_B + eta_C * R_C + eta_D * R_D\n",
    "\n",
    "display(Math(r'\\boldsymbol{R}(\\theta^1, \\theta^2, \\theta^3)='+latex(R)))"
   ]
  },
  {
   "attachments": {},
   "cell_type": "markdown",
   "metadata": {},
   "source": [
    "<img src=\"../images/WS4-1b.png\" alt=\"1b\" width=\"700\"/>"
   ]
  },
  {
   "cell_type": "code",
   "execution_count": null,
   "metadata": {},
   "outputs": [],
   "source": [
    "u_1B, u_2B, u_3B, u_1D, u_2D, u_3D = symbols('u^1_B u^2_B u^3_B u^1_D u^2_D, u^3_D')\n",
    "u_A = Matrix([0, 0, 0])\n",
    "u_B = Matrix([u_1B, u_2B, u_3B])\n",
    "u_C = Matrix([0, 0, 0])\n",
    "u_D = Matrix([u_1D, u_2D, u_3D])\n",
    "\n",
    "r = eta_A * (R_A + u_A) + eta_B * (R_B + u_B) + eta_C * (R_C + u_C) + eta_D * (R_D + u_D)\n",
    "\n",
    "display(Math(r'\\boldsymbol{r}(\\theta^1, \\theta^2, \\theta^3)='+latex(r)))"
   ]
  },
  {
   "attachments": {},
   "cell_type": "markdown",
   "metadata": {},
   "source": [
    "<img src=\"../images/WS4-1c.png\" alt=\"1c\" width=\"700\"/>"
   ]
  },
  {
   "cell_type": "code",
   "execution_count": null,
   "metadata": {},
   "outputs": [],
   "source": [
    "J = Matrix([G_1.T,\n",
    "            G_2.T,\n",
    "            G_3.T])\n",
    "\n",
    "G_ij = simplify(J*J.T)\n",
    "\n",
    "display(Math(r'\\left[ G_{ij} \\right]='+latex(G_ij)))"
   ]
  },
  {
   "cell_type": "code",
   "execution_count": null,
   "metadata": {},
   "outputs": [],
   "source": [
    "g_1 = diff(r, theta_1)\n",
    "g_2 = diff(r, theta_2)\n",
    "g_3 = diff(r, theta_3)\n",
    "\n",
    "display(Math(r'\\boldsymbol{g}_1='+latex(g_1)))\n",
    "display(Math(r'\\boldsymbol{g}_2='+latex(g_2)))\n",
    "display(Math(r'\\boldsymbol{g}_3='+latex(g_3)))"
   ]
  },
  {
   "cell_type": "code",
   "execution_count": null,
   "metadata": {},
   "outputs": [],
   "source": [
    "j = Matrix([g_1.T,\n",
    "            g_2.T,\n",
    "            g_3.T])\n",
    "\n",
    "g_ij = expand(simplify(j*j.T))\n",
    "\n",
    "display(Math(r'\\left[ g_{ij} \\right]='+latex(g_ij)))"
   ]
  },
  {
   "cell_type": "code",
   "execution_count": null,
   "metadata": {},
   "outputs": [],
   "source": [
    "epsilon_ij = simplify(1/2 * (g_ij - G_ij))\n",
    "\n",
    "display(Math(r'\\left[ \\varepsilon_{ij} \\right]='+latex(epsilon_ij)))"
   ]
  },
  {
   "cell_type": "code",
   "execution_count": null,
   "metadata": {},
   "outputs": [],
   "source": [
    "g_ij_list = [ [g_ij[i,j] for i in range(3)] for j in range(3)]\n",
    "\n",
    "\n",
    "# linearize deformed metric tensor coefficients\n",
    "for i in range(3):\n",
    "    for j in range(i+1):\n",
    "        for k in range(3):\n",
    "            g_ij_list[i][j] = (g_ij_list[i][j] + O(u_B[k]**2)).removeO()\n",
    "            g_ij_list[i][j] = (g_ij_list[i][j] + O(u_D[k]**2)).removeO()\n",
    "        for k in range(3):\n",
    "            coeffs_ukB = Poly(g_ij_list[i][j], u_B[k]).coeffs()\n",
    "            if len(coeffs_ukB) != 1:\n",
    "                coeffs_ukB_ukD = Poly(coeffs_ukB[0], u_D[k]).coeffs()\n",
    "                if not coeffs_ukB[0] == coeffs_ukB_ukD[0]:\n",
    "                    g_ij_list[i][j] = g_ij_list[i][j] - coeffs_ukB_ukD[0] * u_B[k] * u_D[k]\n",
    "        if i != j:\n",
    "            g_ij_list[j][i] = g_ij_list[i][j]\n",
    "\n",
    "g_ij_lin = Matrix(g_ij_list)\n",
    "epsilon_ij_lin = 1/2 * (g_ij_lin - G_ij)\n",
    "\n",
    "display(Math(r'\\left[ \\varepsilon^{lin}_{ij} \\right]='+latex(epsilon_ij_lin)))\n"
   ]
  },
  {
   "attachments": {},
   "cell_type": "markdown",
   "metadata": {},
   "source": [
    "<img src=\"../images/WS4-1d.png\" alt=\"1d\" width=\"700\"/>"
   ]
  },
  {
   "cell_type": "code",
   "execution_count": null,
   "metadata": {},
   "outputs": [],
   "source": [
    "g_ij_specific = g_ij.subs([(u_1B, 0), (u_2B, 0), (u_3B, 0.5), (u_1D, 0), (u_2D, 0), (u_3D, 1)])\n",
    "g_ij_lin_specific = g_ij_lin.subs([(u_1B, 0), (u_2B, 0), (u_3B, 0.5), (u_1D, 0), (u_2D, 0), (u_3D, 1)])\n",
    "\n",
    "G = det(G_ij)\n",
    "g = det(g_ij_specific)\n",
    "g_lin = det(g_ij_lin_specific)\n",
    "\n",
    "delta_V = sqrt(g) - sqrt(G)\n",
    "delta_V_lin = sqrt(g_lin) - sqrt(G)\n",
    "\n",
    "display(Math(r'\\left[ G_{ij} \\right] \\left( \\boldsymbol{u}_B, \\boldsymbol{u}_D \\right)='+latex(G_ij)))\n",
    "display(Math(r'\\left[ g_{ij} \\right] \\left( \\boldsymbol{u}_B, \\boldsymbol{u}_D \\right)='+latex(g_ij_specific)))\n",
    "display(Math(r'\\left[ g^{lin}_{ij} \\right] \\left( \\boldsymbol{u}_B, \\boldsymbol{u}_D \\right)='+latex(g_ij_lin_specific)))\n",
    "\n",
    "display(Math(r'G ='+latex(G)))\n",
    "display(Math(r'g='+latex(g)))\n",
    "display(Math(r'g^{lin}='+latex(g_lin)))\n",
    "\n",
    "display(Math(r'\\Delta V='+latex(delta_V)))\n",
    "display(Math(r'\\Delta V^{lin}='+latex(delta_V_lin)))\n"
   ]
  },
  {
   "attachments": {},
   "cell_type": "markdown",
   "metadata": {},
   "source": [
    "# 2)\n",
    "\n",
    "<img src=\"../images/WS4-2.png\" alt=\"2\" width=\"700\"/>"
   ]
  },
  {
   "attachments": {},
   "cell_type": "markdown",
   "metadata": {},
   "source": [
    "<img src=\"../images/WS4-2a.png\" alt=\"2a\" width=\"700\"/>"
   ]
  },
  {
   "cell_type": "code",
   "execution_count": null,
   "metadata": {},
   "outputs": [],
   "source": [
    "u_c0 = symbols('u_c0')\n",
    "\n",
    "R_A = Matrix([0, 0]) \n",
    "R_B = Matrix([1, 2]) \n",
    "R_C = Matrix([3, 0]) \n",
    "\n",
    "u_A = Matrix([0, 0]) \n",
    "u_B = Matrix([0, 0]) \n",
    "u_C = Matrix([u_c0, 0]) \n",
    "\n"
   ]
  },
  {
   "cell_type": "code",
   "execution_count": null,
   "metadata": {},
   "outputs": [],
   "source": [
    "theta_1, theta_2 = symbols('theta^1 theta^2')\n",
    "\n",
    "eta_geo_1 = theta_1\n",
    "eta_geo_2 = theta_2\n",
    "\n",
    "R = R_A + eta_geo_1 * (R_C - R_A) + eta_geo_2 * (R_B - R_A)\n",
    "\n",
    "display(Math(r'\\boldsymbol{R} \\left( \\theta^1, \\theta^2 \\right)='+latex(R)+r'\\qquad \\theta^1 \\in \\left[0; 1 \\right] \\land \\theta^2 \\in \\left[0; 1-\\theta^1 \\right] '))"
   ]
  },
  {
   "attachments": {},
   "cell_type": "markdown",
   "metadata": {},
   "source": [
    "<img src=\"../images/WS4-2b.png\" alt=\"2b\" width=\"700\"/>"
   ]
  },
  {
   "cell_type": "code",
   "execution_count": null,
   "metadata": {},
   "outputs": [],
   "source": [
    "eta_dis_1 = theta_1**2\n",
    "eta_dis_2 = theta_2\n",
    "\n",
    "u = u_A + eta_dis_1 * (u_C - u_A) + eta_dis_2 * (u_B - u_A)\n",
    "\n",
    "r = R + u\n",
    "\n",
    "display(Math(r'\\boldsymbol{r}(\\theta^1, \\theta^2)='+latex(r)))"
   ]
  },
  {
   "attachments": {},
   "cell_type": "markdown",
   "metadata": {},
   "source": [
    "<img src=\"../images/WS4-2c.png\" alt=\"2c\" width=\"700\"/>"
   ]
  },
  {
   "cell_type": "code",
   "execution_count": null,
   "metadata": {},
   "outputs": [],
   "source": [
    "G_1 = diff(R, theta_1)\n",
    "G_2 = diff(R, theta_2)\n",
    "\n",
    "g_1 = diff(r, theta_1)\n",
    "g_2 = diff(r, theta_2)\n",
    "\n",
    "J = Matrix([G_1.T,\n",
    "            G_2.T])\n",
    "\n",
    "j = Matrix([g_1.T,\n",
    "            g_2.T])\n",
    "\n",
    "G_ij = J*J.T\n",
    "g_ij = expand(simplify(j*j.T))\n",
    "\n",
    "\n",
    "epsilon_ij = 1/2 * (g_ij - G_ij)\n",
    "\n",
    "display(Math(r'\\boldsymbol{G}_1='+latex(G_1)))\n",
    "display(Math(r'\\boldsymbol{G}_2='+latex(G_2)))\n",
    "display(Math(r'\\boldsymbol{g}_1(\\theta^1, \\theta^2)='+latex(g_1)))\n",
    "display(Math(r'\\boldsymbol{g}_2(\\theta^1, \\theta^2)='+latex(g_2)))\n",
    "\n",
    "display(Math(r'\\left[ G_{ij} \\right]='+latex(G_ij)))\n",
    "display(Math(r'\\left[ g_{ij} \\right]='+latex(g_ij)))\n",
    "\n",
    "display(Math(r'\\left[ \\varepsilon_{ij} \\right]='+latex(epsilon_ij)))"
   ]
  },
  {
   "attachments": {},
   "cell_type": "markdown",
   "metadata": {},
   "source": [
    "<img src=\"../images/WS4-2d.png\" alt=\"2d\" width=\"700\"/>"
   ]
  },
  {
   "cell_type": "code",
   "execution_count": null,
   "metadata": {},
   "outputs": [],
   "source": [
    "E  = symbols('E')\n",
    "nu = 0.25\n",
    "\n",
    "lam = (E * nu) / ((1 + nu)*(1 - 2*nu))\n",
    "mu = E / (2*(1+nu))"
   ]
  },
  {
   "cell_type": "code",
   "execution_count": null,
   "metadata": {},
   "outputs": [],
   "source": [
    "G_ij_con = G_ij**-1\n",
    "\n",
    "display(Math(r'\\left[ G^{ij} \\right] = \\frac{1}{36}'+latex(G_ij_con *36)))"
   ]
  },
  {
   "cell_type": "code",
   "execution_count": null,
   "metadata": {},
   "outputs": [],
   "source": [
    "C_ijkl = [[[ [0 for i in range(2)] for j in range(2)] for k in range(2)] for l in range(2)]\n",
    "\n",
    "for i in range(2):\n",
    "    for j in range(2):\n",
    "        for k in range(2):\n",
    "            for l in range(2):\n",
    "                C_ijkl[i][j][k][l] = lam * G_ij_con[i,j] * G_ij_con[k,l] + mu * (G_ij_con[i,k]*G_ij_con[j,l] + G_ij_con[i,l]*G_ij_con[j,k])\n",
    "\n",
    "C_matrix = Matrix([[C_ijkl[0][0][0][0], C_ijkl[0][0][0][1], C_ijkl[0][0][1][0], C_ijkl[0][0][1][1]],\n",
    "                   [C_ijkl[0][1][0][0], C_ijkl[0][1][0][1], C_ijkl[0][1][1][0], C_ijkl[0][1][1][1]],\n",
    "                   [C_ijkl[1][0][0][0], C_ijkl[1][0][0][1], C_ijkl[1][0][1][0], C_ijkl[1][0][1][1]],\n",
    "                   [C_ijkl[1][1][0][0], C_ijkl[1][1][0][1], C_ijkl[1][1][1][0], C_ijkl[1][1][1][1]]])\n",
    "\n",
    "\n",
    "display(Math(r'\\left[ C \\right] ='+latex(C_matrix)))"
   ]
  },
  {
   "cell_type": "code",
   "execution_count": null,
   "metadata": {},
   "outputs": [],
   "source": [
    "epsilon_vector = Matrix([epsilon_ij[0,0], epsilon_ij[0,1], epsilon_ij[1,0], epsilon_ij[1,1]])\n",
    "\n",
    "sigma_vector = expand(simplify(C_matrix * epsilon_vector))\n",
    "\n",
    "sigma_ij = Matrix([[sigma_vector[0], sigma_vector[1]],\n",
    "                   [sigma_vector[2], sigma_vector[3]]])\n",
    "\n",
    "display(Math(r'\\left[ \\varepsilon \\right] ='+latex(epsilon_vector)))\n",
    "display(Math(r'\\left[ \\sigma \\right] ='+latex(sigma_vector)))"
   ]
  },
  {
   "attachments": {},
   "cell_type": "markdown",
   "metadata": {},
   "source": [
    "<img src=\"../images/2d.png\" alt=\"drawing\" width=\"600\"/>"
   ]
  },
  {
   "cell_type": "code",
   "execution_count": null,
   "metadata": {},
   "outputs": [],
   "source": [
    "n_cart = Matrix([0, 1])\n",
    "p_cart = Matrix([1, 0])\n",
    "\n",
    "J = Matrix([[G_1.T],\n",
    "            [G_2.T]])\n",
    "\n",
    "n_cov = J * n_cart\n",
    "p_cov = J * p_cart\n",
    "\n",
    "sigma = (n_cov.T * sigma_ij.subs([(theta_2, 0.5)]) * n_cov)[0]\n",
    "tau = (p_cov.T * sigma_ij.subs([(theta_2, 0.5)]) * n_cov)[0]\n",
    "\n",
    "display(Math(r'\\sigma ='+latex(sigma)))\n",
    "display(Math(r'\\tau ='+latex(tau)))"
   ]
  },
  {
   "cell_type": "code",
   "execution_count": null,
   "metadata": {},
   "outputs": [],
   "source": [
    "\n",
    "sigma_subs= sigma.subs([(u_c0, 1), (E, 1)])\n",
    "tau_subs= tau.subs([(u_c0, 1), (E, 1)])\n",
    "\n",
    "plot(sigma_subs, (theta_1, 0 ,2.5))\n",
    "plot(tau_subs, (theta_1, 0 ,2.5))"
   ]
  },
  {
   "attachments": {},
   "cell_type": "markdown",
   "metadata": {},
   "source": [
    "# 3)\n",
    "\n",
    "<img src=\"../images/WS4-3.png\" alt=\"3\" width=\"700\"/>"
   ]
  },
  {
   "attachments": {},
   "cell_type": "markdown",
   "metadata": {},
   "source": [
    "<img src=\"../images/WS4-3a.png\" alt=\"3a\" width=\"700\"/>"
   ]
  },
  {
   "cell_type": "code",
   "execution_count": null,
   "metadata": {},
   "outputs": [],
   "source": [
    "theta_1, theta_2 = symbols('theta^1, theta^2')\n",
    "\n",
    "X_1 = theta_1 * cos(theta_2)\n",
    "X_2 = theta_1 * sin(theta_2)\n",
    "\n",
    "R = Matrix([[X_1],\n",
    "            [X_2]])\n",
    "\n",
    "G_1 = diff(R, theta_1)\n",
    "G_2 = diff(R, theta_2)\n",
    "\n",
    "J = Matrix([G_1.T,\n",
    "            G_2.T])\n",
    "\n",
    "G_ij = simplify(J*J.T)\n",
    "\n",
    "G_ij_con = G_ij**-1\n",
    "\n",
    "display(Math(r'\\boldsymbol{R}(\\theta^1, \\theta^2)='+latex(R)))\n",
    "display(Math(r'\\boldsymbol{G}_1='+latex(G_1)))\n",
    "display(Math(r'\\boldsymbol{G}_2='+latex(G_2)))\n",
    "display(Math(r'\\left[ G_{ij} \\right]='+latex(G_ij)))\n",
    "display(Math(r'\\left[ G^{ij} \\right]='+latex(G_ij_con)))"
   ]
  },
  {
   "attachments": {},
   "cell_type": "markdown",
   "metadata": {},
   "source": [
    "<img src=\"../images/WS4-3b.png\" alt=\"3b\" width=\"700\"/>"
   ]
  },
  {
   "cell_type": "code",
   "execution_count": null,
   "metadata": {},
   "outputs": [],
   "source": [
    "x_1 = 2 * theta_1 * cos(theta_2)\n",
    "x_2 = 2 * theta_1 * sin(theta_2)\n",
    "\n",
    "r = Matrix([[x_1],\n",
    "            [x_2]])\n",
    "\n",
    "u_cart = r - R\n",
    "\n",
    "u_con = simplify(J * u_cart)\n",
    "\n",
    "display(Math(r'\\boldsymbol{r}(\\theta^1, \\theta^2)='+latex(r)))\n",
    "display(Math(r'\\left[ u^{i°} \\right](\\theta^1, \\theta^2)='+latex(u_cart)))\n",
    "display(Math(r'\\left[ u^{i} \\right](\\theta^1, \\theta^2)='+latex(u_con)))"
   ]
  },
  {
   "attachments": {},
   "cell_type": "markdown",
   "metadata": {},
   "source": [
    "<img src=\"../images/WS4-3c.png\" alt=\"3c\" width=\"700\"/>"
   ]
  },
  {
   "cell_type": "code",
   "execution_count": null,
   "metadata": {},
   "outputs": [],
   "source": [
    "G_i = [G_1, G_2] # 1D-array containing the basis vectors\n",
    "th = [theta_1, theta_2] # 1D-array containing the coordinates \\theta^1 to \\theta^3\n",
    "Gi_j = [ [0 for i in range(2)] for j in range(2)] # emty 2D-array\n",
    "\n",
    "for i in range(2):\n",
    "    for j in range(i+1):\n",
    "        Gi_j[i][j] = diff(G_i[i], th[j])\n",
    "        if i != j:\n",
    "            Gi_j[j][i] = Gi_j[i][j]\n",
    "\n",
    "display(Math(r'\\boldsymbol{G}_{1,1}='+latex(Gi_j[0][0])+r', \\ \\boldsymbol{G}_{1,2}='+latex(Gi_j[0][1])))\n",
    "display(Math(r'\\boldsymbol{G}_{2,1}='+latex(Gi_j[1][0])+r', \\ \\boldsymbol{G}_{2,2}='+latex(Gi_j[1][1])))"
   ]
  },
  {
   "cell_type": "code",
   "execution_count": null,
   "metadata": {},
   "outputs": [],
   "source": [
    "GammaSecond = [[ [0 for i in range(2)] for j in range(2)] for k in range(2)] # empty 3D-Array\n",
    "G_1_con = G_ij_con[0,0] * G_1 + G_ij_con[0,1] * G_2\n",
    "G_2_con = G_ij_con[1,0] * G_1 + G_ij_con[1,1] * G_2\n",
    "\n",
    "# display(Math(r'\\boldsymbol{G}^1='+latex(G_1_con)))\n",
    "# display(Math(r'\\boldsymbol{G}^2='+latex(G_2_con)))\n",
    "\n",
    "G_i_con = [G_1_con, G_2_con] # 1D-array containing the basis vectors\n",
    "\n",
    "for i in range(2):\n",
    "    for j in range(i+1):\n",
    "        for k in range(2):\n",
    "            GammaSecond[i][j][k] = (simplify((Gi_j[i][j]).T * G_i_con[k]))[0]\n",
    "        if i != j:\n",
    "            GammaSecond[j][i][k] = GammaSecond[i][j][k]\n",
    "\n",
    "for i in range(2):\n",
    "    display(Math(r'\\Gamma_{ij}^{\\ \\ \\ \\ '+f'{i+1}'+r'}='+latex(Array(GammaSecond)[:,:,i])))"
   ]
  },
  {
   "attachments": {},
   "cell_type": "markdown",
   "metadata": {},
   "source": [
    "<img src=\"../images/WS4-3d.png\" alt=\"3d\" width=\"700\"/>"
   ]
  },
  {
   "cell_type": "code",
   "execution_count": null,
   "metadata": {},
   "outputs": [],
   "source": [
    "ui_j_cov = [ [0 for i in range(2)] for j in range(2)]\n",
    "th = [theta_1, theta_2]\n",
    "\n",
    "for i in range(2):\n",
    "    for j in range(2):\n",
    "        ui_j_cov[i][j] = diff(u_con[i], th[j])\n",
    "        for k in range(2):\n",
    "            ui_j_cov[i][j] = ui_j_cov[i][j] + u_con[k] * GammaSecond[k][j][i]\n",
    "\n",
    "for j in range(2):\n",
    "    for i in range(2):\n",
    "        display(Math(r'\\left. u^{'+f'{i+1}'+r'} \\right|_{'+f'{j+1}'+r'}='+latex(ui_j_cov[i][j])))"
   ]
  },
  {
   "cell_type": "code",
   "execution_count": null,
   "metadata": {},
   "outputs": [],
   "source": [
    "ui_j_con = [ [0 for i in range(2)] for j in range(2)]\n",
    "\n",
    "for i in range(2):\n",
    "    for j in range(2):\n",
    "        for k in range(2):\n",
    "            ui_j_con[i][j] = ui_j_con[i][j] + G_ij[i,k] *ui_j_cov[k][j]\n",
    "\n",
    "for j in range(2):\n",
    "    for i in range(2):\n",
    "        display(Math(r'\\left. u_{'+f'{i+1}'+r'} \\right|_{'+f'{j+1}'+r'}='+latex(ui_j_con[i][j])))"
   ]
  },
  {
   "cell_type": "code",
   "execution_count": null,
   "metadata": {},
   "outputs": [],
   "source": [
    "epsilon_ij = [ [0 for i in range(2)] for j in range(2)]\n",
    "\n",
    "for i in range(2):\n",
    "    for j in range(2):\n",
    "        epsilon_ij[i][j]= ui_j_con[i][j] + ui_j_con[j][i]\n",
    "        for k in range(2):\n",
    "            epsilon_ij[i][j]= epsilon_ij[i][j] + ui_j_con[k][i] * ui_j_cov[k][j]\n",
    "\n",
    "epsilon_ij = 1/2 * Array(epsilon_ij)\n",
    "\n",
    "display(Math(r'\\left[ \\varepsilon_{ij} \\right]='+latex(epsilon_ij)))"
   ]
  },
  {
   "attachments": {},
   "cell_type": "markdown",
   "metadata": {},
   "source": [
    "<img src=\"../images/WS4-3e.png\" alt=\"3e\" width=\"700\"/>"
   ]
  },
  {
   "cell_type": "code",
   "execution_count": null,
   "metadata": {},
   "outputs": [],
   "source": [
    "E  = symbols('E')\n",
    "nu = 0\n",
    "\n",
    "lam = (E * nu) / ((1 + nu)*(1 - 2*nu))\n",
    "mu = E / (2*(1+nu))\n",
    "\n",
    "display(Math(r'\\lambda = '+latex(lam)))\n",
    "display(Math(r'\\mu = '+latex(mu)))"
   ]
  },
  {
   "cell_type": "code",
   "execution_count": null,
   "metadata": {},
   "outputs": [],
   "source": [
    "C_ijkl = [[[ [0 for i in range(2)] for j in range(2)] for k in range(2)] for l in range(2)]\n",
    "\n",
    "for i in range(2):\n",
    "    for j in range(2):\n",
    "        for k in range(2):\n",
    "            for l in range(2):\n",
    "                C_ijkl[i][j][k][l] = lam * G_ij_con[i,j] * G_ij_con[k,l] + mu * (G_ij_con[i,k]*G_ij_con[j,l] + G_ij_con[i,l]*G_ij_con[j,k])\n",
    "\n",
    "C_matrix = Matrix([[C_ijkl[0][0][0][0], C_ijkl[0][0][0][1], C_ijkl[0][0][1][0], C_ijkl[0][0][1][1]],\n",
    "                   [C_ijkl[0][1][0][0], C_ijkl[0][1][0][1], C_ijkl[0][1][1][0], C_ijkl[0][1][1][1]],\n",
    "                   [C_ijkl[1][0][0][0], C_ijkl[1][0][0][1], C_ijkl[1][0][1][0], C_ijkl[1][0][1][1]],\n",
    "                   [C_ijkl[1][1][0][0], C_ijkl[1][1][0][1], C_ijkl[1][1][1][0], C_ijkl[1][1][1][1]]])\n",
    "\n",
    "\n",
    "display(Math(r'\\left[ C \\right] ='+latex(C_matrix)))"
   ]
  },
  {
   "cell_type": "code",
   "execution_count": null,
   "metadata": {},
   "outputs": [],
   "source": [
    "epsilon_vector = Matrix([epsilon_ij[0,0], epsilon_ij[0,1], epsilon_ij[1,0], epsilon_ij[1,1]])\n",
    "\n",
    "sigma_vector = expand(simplify(C_matrix * epsilon_vector))\n",
    "\n",
    "sigma_ij = Matrix([[sigma_vector[0], sigma_vector[1]],\n",
    "                   [sigma_vector[2], sigma_vector[3]]])\n",
    "\n",
    "display(Math(r'\\left[ \\sigma^{ij} \\right] =\\frac{3}{2} E'+latex(sigma_ij * 2/(3*E))))"
   ]
  },
  {
   "attachments": {},
   "cell_type": "markdown",
   "metadata": {},
   "source": [
    "<img src=\"../images/WS4-3f.png\" alt=\"3f\" width=\"700\"/>"
   ]
  },
  {
   "cell_type": "code",
   "execution_count": null,
   "metadata": {},
   "outputs": [],
   "source": [
    "sigma_ij_phy = [[[ [sigma_ij[i, j] for i in range(2)] for j in range(2)] for k in range(2)] for l in range(2)]\n",
    "\n",
    "for i in range(2):\n",
    "    for j in range(2):\n",
    "        sigma_ij_phy[i][j] = sigma_ij[i,j] * sqrt(G_ij[i,i]) * sqrt(G_ij[j,j]) \n",
    "\n",
    "sigma_ij_phy = simplify(Array(sigma_ij_phy))\n",
    "\n",
    "display(Math(r'\\left[\\tilde{\\sigma}^{ij}\\right]='+latex(sigma_ij_phy)))"
   ]
  },
  {
   "attachments": {},
   "cell_type": "markdown",
   "metadata": {},
   "source": [
    "<img src=\"../images/3f.png\" alt=\"2f\" width=\"600\"/>"
   ]
  }
 ],
 "metadata": {
  "kernelspec": {
   "display_name": "jupyter_project_env",
   "language": "python",
   "name": "python3"
  },
  "language_info": {
   "codemirror_mode": {
    "name": "ipython",
    "version": 3
   },
   "file_extension": ".py",
   "mimetype": "text/x-python",
   "name": "python",
   "nbconvert_exporter": "python",
   "pygments_lexer": "ipython3",
   "version": "3.10.5 (tags/v3.10.5:f377153, Jun  6 2022, 16:14:13) [MSC v.1929 64 bit (AMD64)]"
  },
  "orig_nbformat": 4,
  "vscode": {
   "interpreter": {
    "hash": "faa7a684efc7dc4512bcdb696b165493a5668823ee6669aea6df5b436937d255"
   }
  }
 },
 "nbformat": 4,
 "nbformat_minor": 2
}
